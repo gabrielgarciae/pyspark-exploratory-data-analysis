{
  "nbformat": 4,
  "nbformat_minor": 0,
  "metadata": {
    "colab": {
      "provenance": [],
      "collapsed_sections": [
        "iLNVUJx8_6Ab"
      ],
      "authorship_tag": "ABX9TyOlPp+tdKcA1n+DisJwPkqX",
      "include_colab_link": true
    },
    "kernelspec": {
      "name": "python3",
      "display_name": "Python 3"
    },
    "language_info": {
      "name": "python"
    }
  },
  "cells": [
    {
      "cell_type": "markdown",
      "metadata": {
        "id": "view-in-github",
        "colab_type": "text"
      },
      "source": [
        "<a href=\"https://colab.research.google.com/github/gabrielgarciae/pyspark-exploratory-data-analysis/blob/main/Spark_course_udemy.ipynb\" target=\"_parent\"><img src=\"https://colab.research.google.com/assets/colab-badge.svg\" alt=\"Open In Colab\"/></a>"
      ]
    },
    {
      "cell_type": "markdown",
      "source": [
        "### **Installing PySpark and setting up the environment**"
      ],
      "metadata": {
        "id": "mawbxv-K08I4"
      }
    },
    {
      "cell_type": "code",
      "execution_count": null,
      "metadata": {
        "id": "fMXZ8vyKjFet"
      },
      "outputs": [],
      "source": [
        "#preparing the environment to use PySpark\n",
        "!apt-get install openjdk-8-jdk-headless -qq > /dev/null #install dependencies (Java)"
      ]
    },
    {
      "cell_type": "code",
      "source": [
        "#install Spark\n",
        "#download\n",
        "!wget -q https://archive.apache.org/dist/spark/spark-3.1.2/spark-3.1.2-bin-hadoop2.7.tgz\n",
        "\n",
        "#unpacking the files\n",
        "!tar xf spark-3.1.2-bin-hadoop2.7.tgz\n",
        "\n",
        "#install PySpark, it's need to be the same version of Spark\n",
        "#pip install pyspark==3.1.2"
      ],
      "metadata": {
        "id": "oyQ8UIXsjbdZ"
      },
      "execution_count": null,
      "outputs": []
    },
    {
      "cell_type": "code",
      "source": [
        "#configuring the environment\n",
        "import os\n",
        "\n",
        "#setting the Java enviroment variable\n",
        "os.environ[\"JAVA_HOME\"] = \"/usr/lib/jvm/java-8-openjdk-amd64\"\n",
        "\n",
        "#setting the Spark enviroment variable\n",
        "os.environ[\"SPARK_HOME\"] = \"/content/spark-3.1.2-bin-hadoop2.7\""
      ],
      "metadata": {
        "id": "8jn0yCDvjuA2"
      },
      "execution_count": null,
      "outputs": []
    },
    {
      "cell_type": "code",
      "source": [
        "#installing a findspark\n",
        "!pip install -q findspark\n",
        "\n",
        "#importing a findspark\n",
        "import findspark\n",
        "\n",
        "#starting o findspark\n",
        "findspark.init()"
      ],
      "metadata": {
        "id": "Mq8iMuVD3HuO"
      },
      "execution_count": null,
      "outputs": []
    },
    {
      "cell_type": "code",
      "source": [
        "#loggin in\n",
        "#importing the required package\n",
        "from pyspark.sql import SparkSession\n",
        "\n",
        "#starting spark context\n",
        "sc = SparkSession.builder.master('local[*]').getOrCreate()\n",
        "#checking if the session was created\n",
        "sc"
      ],
      "metadata": {
        "id": "sNCuFTmXkIIc",
        "colab": {
          "base_uri": "https://localhost:8080/",
          "height": 222
        },
        "outputId": "29b46f96-6924-441d-be12-bb3a75001708"
      },
      "execution_count": null,
      "outputs": [
        {
          "output_type": "execute_result",
          "data": {
            "text/plain": [
              "<pyspark.sql.session.SparkSession at 0x7f1530f3b7c0>"
            ],
            "text/html": [
              "\n",
              "            <div>\n",
              "                <p><b>SparkSession - in-memory</b></p>\n",
              "                \n",
              "        <div>\n",
              "            <p><b>SparkContext</b></p>\n",
              "\n",
              "            <p><a href=\"http://b104d8105fe6:4040\">Spark UI</a></p>\n",
              "\n",
              "            <dl>\n",
              "              <dt>Version</dt>\n",
              "                <dd><code>v3.1.2</code></dd>\n",
              "              <dt>Master</dt>\n",
              "                <dd><code>local[*]</code></dd>\n",
              "              <dt>AppName</dt>\n",
              "                <dd><code>pyspark-shell</code></dd>\n",
              "            </dl>\n",
              "        </div>\n",
              "        \n",
              "            </div>\n",
              "        "
            ]
          },
          "metadata": {},
          "execution_count": 5
        }
      ]
    },
    {
      "cell_type": "markdown",
      "source": [
        "### **Entering data for Apache Spark**"
      ],
      "metadata": {
        "id": "rmrAIuGs1qw3"
      }
    },
    {
      "cell_type": "code",
      "source": [
        "#download of a free table\n",
        "#source: https://dados.gov.br/dataset/serie-historica-de-precos-de-combustiveis-por-revenda\n",
        "!wget --verbose --show-progress --no-check-certificate https://www.gov.br/anp/pt-br/centrais-de-conteudo/dados-abertos/arquivos/shpc/dsan/2021/dados-abertos-precos-2021-12-glp.csv"
      ],
      "metadata": {
        "colab": {
          "base_uri": "https://localhost:8080/"
        },
        "id": "CTzzb_112B17",
        "outputId": "db291cb1-3e5d-4e46-d284-802791d2d0fb"
      },
      "execution_count": null,
      "outputs": [
        {
          "output_type": "stream",
          "name": "stdout",
          "text": [
            "--2023-03-21 18:10:36--  https://www.gov.br/anp/pt-br/centrais-de-conteudo/dados-abertos/arquivos/shpc/dsan/2021/dados-abertos-precos-2021-12-glp.csv\n",
            "Resolving www.gov.br (www.gov.br)... 161.148.164.31\n",
            "Connecting to www.gov.br (www.gov.br)|161.148.164.31|:443... connected.\n",
            "HTTP request sent, awaiting response... 200 OK\n",
            "Length: 2623526 (2.5M) [text/csv]\n",
            "Saving to: ‘dados-abertos-precos-2021-12-glp.csv’\n",
            "\n",
            "dados-abertos-preco 100%[===================>]   2.50M   645KB/s    in 4.0s    \n",
            "\n",
            "2023-03-21 18:10:40 (645 KB/s) - ‘dados-abertos-precos-2021-12-glp.csv’ saved [2623526/2623526]\n",
            "\n"
          ]
        }
      ]
    },
    {
      "cell_type": "code",
      "source": [
        " #reading the dataset\n",
        "precogas = sc.read.csv(\"/content/dados-abertos-precos-2021-12-glp.csv\", \n",
        "                       inferSchema=True, header=True,\n",
        "                       sep = ';', \n",
        "                       #encoding = \"ISO-8859-1\")\n",
        "                       encoding = \"UTF-8\")"
      ],
      "metadata": {
        "id": "_QIMx5-92SUl"
      },
      "execution_count": null,
      "outputs": []
    },
    {
      "cell_type": "code",
      "source": [
        "#showing the dataset\n",
        "precogas.show()"
      ],
      "metadata": {
        "colab": {
          "base_uri": "https://localhost:8080/"
        },
        "id": "jQ2o2V9f2hwa",
        "outputId": "c85a9dbf-5ee6-4d1c-e005-ad81e3581ad0"
      },
      "execution_count": null,
      "outputs": [
        {
          "output_type": "stream",
          "name": "stdout",
          "text": [
            "+--------------+--------------+------------+--------------------+-------------------+--------------------+----------+----------------+-----------------+---------+-------+--------------+--------------+---------------+-----------------+--------------------+\n",
            "|Regiao - Sigla|Estado - Sigla|   Municipio|             Revenda|    CNPJ da Revenda|         Nome da Rua|Numero Rua|     Complemento|           Bairro|      Cep|Produto|Data da Coleta|Valor de Venda|Valor de Compra|Unidade de Medida|            Bandeira|\n",
            "+--------------+--------------+------------+--------------------+-------------------+--------------------+----------+----------------+-----------------+---------+-------+--------------+--------------+---------------+-----------------+--------------------+\n",
            "|            SE|            SP| SAO VICENTE|CONSIGAZ DISTRIBU...| 01.597.589/0003-81| RUA MANOEL DE ABREU|       790|      QUADRA 108|   CIDADE NAUTICA|11355-400|    GLP|    01/12/2021|         97,99|           null|       R$ / 13 kg|            CONSIGAZ|\n",
            "|             N|            AC|  RIO BRANCO|AUTO POSTO AMAPA ...| 00.529.581/0001-53|    VIA CHICO MENDES|      3570|            null|            AREAL|69906-119|    GLP|    01/12/2021|           115|           null|       R$ / 13 kg|               FOGAS|\n",
            "|             N|            AC|  RIO BRANCO|AUTO POSTO ACAUAN...| 00.524.999/0001-78|       RODOVIA AC 40|      1800|            null|        VILA ACRE|69902-450|    GLP|    01/12/2021|           110|           null|       R$ / 13 kg|           AMAZONGÁS|\n",
            "|             N|            AC|  RIO BRANCO|AUTO POSTO CANIND...| 05.442.544/0001-27|       RODOVIA AC 40|      3206|           KM 07|        VILA ACRE|69902-450|    GLP|    01/12/2021|           115|           null|       R$ / 13 kg|           AMAZONGÁS|\n",
            "|             N|            AC|  RIO BRANCO|AUTO POSTO AEROPO...| 14.294.227/0001-00|      V CHICO MENDES|      2583|            null|           COMARA|69906-326|    GLP|    01/12/2021|           115|           null|       R$ / 13 kg|           AMAZONGÁS|\n",
            "|            CO|            DF|    BRASILIA|SOUSA & ALVES COM...| 07.111.605/0001-07| QNM 15 LOTE G AR...|       S/N|            null|        CEILANDIA|72215-150|    GLP|    01/12/2021|         99,99|           null|       R$ / 13 kg|SUPERGASBRAS ENERGIA|\n",
            "|            CO|            DF|    BRASILIA|MARLIM COMBUSTIVE...| 04.494.011/0001-26|          QNO 06 PLL|       S/N|            null|        CEILÂNDIA|72237-100|    GLP|    01/12/2021|         98,99|           null|       R$ / 13 kg|            LIQUIGÁS|\n",
            "|            CO|            DF|    BRASILIA|AUTO SHOPPING DER...| 37.063.328/0009-14| QI 19 LOTES 02 E 04|       S/N|SETOR INDUSTRIAL|       TAGUATINGA|72120-190|    GLP|    01/12/2021|         98,99|           null|       R$ / 13 kg|            ULTRAGAZ|\n",
            "|            CO|            DF|    BRASILIA|LR COMERCIO DE PR...| 24.912.669/0001-18|              QNO 15|       S/N|        LOTE PLL|        CEILANDIA|72255-600|    GLP|    01/12/2021|         99,99|           null|       R$ / 13 kg|              BRANCA|\n",
            "|            CO|            DF|    BRASILIA|CASCOL COMBUSTIVE...| 00.306.597/0015-00|QUADRA QR 516 CON...|         1|            null|    SAMAMBAIA SUL|70772-500|    GLP|    01/12/2021|         99,99|           null|       R$ / 13 kg|            ULTRAGAZ|\n",
            "|            CO|            DF|    BRASILIA|CASCOL COMBUSTIVE...| 00.306.597/0017-64|   QUADRA QNO 05 PLL|       S/N|            null|        CEILANDIA|72251-000|    GLP|    01/12/2021|         99,99|           null|       R$ / 13 kg|            LIQUIGÁS|\n",
            "|            CO|            DF|    BRASILIA|CASCOL COMBUSTIVE...| 00.306.597/0008-73|   SETOR CSD 06 LOTE|        36|     SETOR D SUL|       TAGUATINGA|72020-000|    GLP|    01/12/2021|         97,99|           null|       R$ / 13 kg|            ULTRAGAZ|\n",
            "|            CO|            MS|CAMPO GRANDE|POSTO DOS PODERES...| 24.624.785/0001-31|    AVENIDA DO POETA|       990|            null| DO DESBARRANCADO|79031-350|    GLP|    01/12/2021|           100|           null|       R$ / 13 kg|SUPERGASBRAS ENERGIA|\n",
            "|            CO|            MS|CAMPO GRANDE|RIBEIRO DE MENDON...| 16.045.015/0001-06| AVENIDA AFONSO PENA|      5264|            null|CHACARA CACHOEIRA|79040-010|    GLP|    01/12/2021|           116|           null|       R$ / 13 kg|             COPAGAZ|\n",
            "|            CO|            MS|CAMPO GRANDE|AUTO POSTO MALIBU...| 02.110.486/0001-46|RUA JOSE NOGUEIRA...|      1310|            null|       TIRADENTES|79042-010|    GLP|    01/12/2021|         95,99|           null|       R$ / 13 kg|            LIQUIGÁS|\n",
            "|            CO|            MS|CAMPO GRANDE| POSTO ROUXINOL LTDA| 00.413.865/0001-80|    AVENIDA ROUXINOL|        35|            null|       TIRADENTES|79041-150|    GLP|    01/12/2021|            98|           null|       R$ / 13 kg|             COPAGAZ|\n",
            "|            CO|            MS|    DOURADOS|GABIATTI & GABIAT...| 04.075.654/0001-35|RUA CORONEL PONCIANO|      2230|            null|  VILA INDUSTRIAL|79840-230|    GLP|    01/12/2021|            95|           null|       R$ / 13 kg|            LIQUIGÁS|\n",
            "|             N|            PA|       BELEM|AUTO POSTO GK EIRELI| 07.909.407/0001-85|AVENIDA DUQUE DE ...|      1169|            null|            MARCO|66093-400|    GLP|    01/12/2021|           112|           null|       R$ / 13 kg| NACIONAL GÁS BUTANO|\n",
            "|             N|            PA|       BELEM|GP PETROLEO COMER...| 06.945.995/0002-20|AVENIDA GENERALIS...|       306|            null|         UMARIZAL|66055-240|    GLP|    01/12/2021|           118|           null|       R$ / 13 kg|SUPERGASBRAS ENERGIA|\n",
            "|             N|            PA|       BELEM|IRMAOS TEIXEIRA LTDA| 04.976.718/0003-30|AVENIDA PEDRO ALV...|      3800|            null|       SACRAMENTA|66120-620|    GLP|    01/12/2021|           113|           null|       R$ / 13 kg|             BAHIANA|\n",
            "+--------------+--------------+------------+--------------------+-------------------+--------------------+----------+----------------+-----------------+---------+-------+--------------+--------------+---------------+-----------------+--------------------+\n",
            "only showing top 20 rows\n",
            "\n"
          ]
        }
      ]
    },
    {
      "cell_type": "markdown",
      "source": [
        "### **Knowing the structure of your SparkDataFrame**"
      ],
      "metadata": {
        "id": "Fj0VDLt-4EKS"
      }
    },
    {
      "cell_type": "code",
      "source": [
        "#necessary imports\n",
        "from pyspark import *\n",
        "from pyspark.sql import *"
      ],
      "metadata": {
        "id": "8C4_QyDB4WBN"
      },
      "execution_count": null,
      "outputs": []
    },
    {
      "cell_type": "code",
      "source": [
        "#checking the type of created object\n",
        "type(precogas)"
      ],
      "metadata": {
        "colab": {
          "base_uri": "https://localhost:8080/"
        },
        "id": "OHZf77NZ4i5V",
        "outputId": "ce2849e2-7652-484d-d0fb-d90428b9f560"
      },
      "execution_count": null,
      "outputs": [
        {
          "output_type": "execute_result",
          "data": {
            "text/plain": [
              "pyspark.sql.dataframe.DataFrame"
            ]
          },
          "metadata": {},
          "execution_count": 10
        }
      ]
    },
    {
      "cell_type": "code",
      "source": [
        "#checking the schema() of this sparkdataframe\n",
        "precogas.printSchema()\n",
        "\n",
        "#also can use\n",
        "precogas.dtypes"
      ],
      "metadata": {
        "id": "yvp7mvw74q4u",
        "colab": {
          "base_uri": "https://localhost:8080/"
        },
        "outputId": "eedc19e1-43c7-436f-b7cd-24b5e412966d"
      },
      "execution_count": null,
      "outputs": [
        {
          "output_type": "stream",
          "name": "stdout",
          "text": [
            "root\n",
            " |-- Regiao - Sigla: string (nullable = true)\n",
            " |-- Estado - Sigla: string (nullable = true)\n",
            " |-- Municipio: string (nullable = true)\n",
            " |-- Revenda: string (nullable = true)\n",
            " |-- CNPJ da Revenda: string (nullable = true)\n",
            " |-- Nome da Rua: string (nullable = true)\n",
            " |-- Numero Rua: string (nullable = true)\n",
            " |-- Complemento: string (nullable = true)\n",
            " |-- Bairro: string (nullable = true)\n",
            " |-- Cep: string (nullable = true)\n",
            " |-- Produto: string (nullable = true)\n",
            " |-- Data da Coleta: string (nullable = true)\n",
            " |-- Valor de Venda: string (nullable = true)\n",
            " |-- Valor de Compra: string (nullable = true)\n",
            " |-- Unidade de Medida: string (nullable = true)\n",
            " |-- Bandeira: string (nullable = true)\n",
            "\n"
          ]
        },
        {
          "output_type": "execute_result",
          "data": {
            "text/plain": [
              "[('Regiao - Sigla', 'string'),\n",
              " ('Estado - Sigla', 'string'),\n",
              " ('Municipio', 'string'),\n",
              " ('Revenda', 'string'),\n",
              " ('CNPJ da Revenda', 'string'),\n",
              " ('Nome da Rua', 'string'),\n",
              " ('Numero Rua', 'string'),\n",
              " ('Complemento', 'string'),\n",
              " ('Bairro', 'string'),\n",
              " ('Cep', 'string'),\n",
              " ('Produto', 'string'),\n",
              " ('Data da Coleta', 'string'),\n",
              " ('Valor de Venda', 'string'),\n",
              " ('Valor de Compra', 'string'),\n",
              " ('Unidade de Medida', 'string'),\n",
              " ('Bandeira', 'string')]"
            ]
          },
          "metadata": {},
          "execution_count": 11
        }
      ]
    },
    {
      "cell_type": "code",
      "source": [
        "#counting how many rows the dataset has\n",
        "precogas.count()"
      ],
      "metadata": {
        "colab": {
          "base_uri": "https://localhost:8080/"
        },
        "id": "sdUoIEIj5Fgh",
        "outputId": "9474319a-82ab-43a0-97bc-339871cd17bc"
      },
      "execution_count": null,
      "outputs": [
        {
          "output_type": "execute_result",
          "data": {
            "text/plain": [
              "15765"
            ]
          },
          "metadata": {},
          "execution_count": 12
        }
      ]
    },
    {
      "cell_type": "code",
      "source": [
        "#listing the headers\n",
        "precogas.columns"
      ],
      "metadata": {
        "colab": {
          "base_uri": "https://localhost:8080/"
        },
        "id": "J9c0M-2X5WPb",
        "outputId": "de155843-8d43-4b66-b483-672602933803"
      },
      "execution_count": null,
      "outputs": [
        {
          "output_type": "execute_result",
          "data": {
            "text/plain": [
              "['Regiao - Sigla',\n",
              " 'Estado - Sigla',\n",
              " 'Municipio',\n",
              " 'Revenda',\n",
              " 'CNPJ da Revenda',\n",
              " 'Nome da Rua',\n",
              " 'Numero Rua',\n",
              " 'Complemento',\n",
              " 'Bairro',\n",
              " 'Cep',\n",
              " 'Produto',\n",
              " 'Data da Coleta',\n",
              " 'Valor de Venda',\n",
              " 'Valor de Compra',\n",
              " 'Unidade de Medida',\n",
              " 'Bandeira']"
            ]
          },
          "metadata": {},
          "execution_count": 13
        }
      ]
    },
    {
      "cell_type": "code",
      "source": [
        "#counting how many columns the dataset has\n",
        "len(precogas.columns)"
      ],
      "metadata": {
        "colab": {
          "base_uri": "https://localhost:8080/"
        },
        "id": "hYkFP9Vk5hQV",
        "outputId": "652fdb37-338b-4115-b334-b8b7c2d04c64"
      },
      "execution_count": null,
      "outputs": [
        {
          "output_type": "execute_result",
          "data": {
            "text/plain": [
              "16"
            ]
          },
          "metadata": {},
          "execution_count": 14
        }
      ]
    },
    {
      "cell_type": "markdown",
      "source": [
        "### **Manipulating columns in a SparkDataFrame**\n",
        "\n",
        "\n"
      ],
      "metadata": {
        "id": "Ilh2murp60l_"
      }
    },
    {
      "cell_type": "code",
      "source": [
        "#importing methods with functions for variable transformations\n",
        "from pyspark.sql.functions import *"
      ],
      "metadata": {
        "id": "3w2L84HD7HHI"
      },
      "execution_count": null,
      "outputs": []
    },
    {
      "cell_type": "code",
      "source": [
        "#selecting only some columns from the dataset\n",
        "precogas.select('Revenda','Bandeira','Data da Coleta','Valor de Venda').show(20)\n",
        "\n",
        "#other way to select some columns and rename it\n",
        "precogas.select('Revenda','Bandeira',col('Data da Coleta').alias('Data_da_Coleta'),'Valor de Venda').show(20)"
      ],
      "metadata": {
        "id": "KcSMVI877YTL",
        "colab": {
          "base_uri": "https://localhost:8080/"
        },
        "outputId": "e939f745-af4e-4f26-c781-1a4d19a37a94"
      },
      "execution_count": null,
      "outputs": [
        {
          "output_type": "stream",
          "name": "stdout",
          "text": [
            "+--------------------+--------------------+--------------+--------------+\n",
            "|             Revenda|            Bandeira|Data da Coleta|Valor de Venda|\n",
            "+--------------------+--------------------+--------------+--------------+\n",
            "|CONSIGAZ DISTRIBU...|            CONSIGAZ|    01/12/2021|         97,99|\n",
            "|AUTO POSTO AMAPA ...|               FOGAS|    01/12/2021|           115|\n",
            "|AUTO POSTO ACAUAN...|           AMAZONGÁS|    01/12/2021|           110|\n",
            "|AUTO POSTO CANIND...|           AMAZONGÁS|    01/12/2021|           115|\n",
            "|AUTO POSTO AEROPO...|           AMAZONGÁS|    01/12/2021|           115|\n",
            "|SOUSA & ALVES COM...|SUPERGASBRAS ENERGIA|    01/12/2021|         99,99|\n",
            "|MARLIM COMBUSTIVE...|            LIQUIGÁS|    01/12/2021|         98,99|\n",
            "|AUTO SHOPPING DER...|            ULTRAGAZ|    01/12/2021|         98,99|\n",
            "|LR COMERCIO DE PR...|              BRANCA|    01/12/2021|         99,99|\n",
            "|CASCOL COMBUSTIVE...|            ULTRAGAZ|    01/12/2021|         99,99|\n",
            "|CASCOL COMBUSTIVE...|            LIQUIGÁS|    01/12/2021|         99,99|\n",
            "|CASCOL COMBUSTIVE...|            ULTRAGAZ|    01/12/2021|         97,99|\n",
            "|POSTO DOS PODERES...|SUPERGASBRAS ENERGIA|    01/12/2021|           100|\n",
            "|RIBEIRO DE MENDON...|             COPAGAZ|    01/12/2021|           116|\n",
            "|AUTO POSTO MALIBU...|            LIQUIGÁS|    01/12/2021|         95,99|\n",
            "| POSTO ROUXINOL LTDA|             COPAGAZ|    01/12/2021|            98|\n",
            "|GABIATTI & GABIAT...|            LIQUIGÁS|    01/12/2021|            95|\n",
            "|AUTO POSTO GK EIRELI| NACIONAL GÁS BUTANO|    01/12/2021|           112|\n",
            "|GP PETROLEO COMER...|SUPERGASBRAS ENERGIA|    01/12/2021|           118|\n",
            "|IRMAOS TEIXEIRA LTDA|             BAHIANA|    01/12/2021|           113|\n",
            "+--------------------+--------------------+--------------+--------------+\n",
            "only showing top 20 rows\n",
            "\n",
            "+--------------------+--------------------+--------------+--------------+\n",
            "|             Revenda|            Bandeira|Data_da_Coleta|Valor de Venda|\n",
            "+--------------------+--------------------+--------------+--------------+\n",
            "|CONSIGAZ DISTRIBU...|            CONSIGAZ|    01/12/2021|         97,99|\n",
            "|AUTO POSTO AMAPA ...|               FOGAS|    01/12/2021|           115|\n",
            "|AUTO POSTO ACAUAN...|           AMAZONGÁS|    01/12/2021|           110|\n",
            "|AUTO POSTO CANIND...|           AMAZONGÁS|    01/12/2021|           115|\n",
            "|AUTO POSTO AEROPO...|           AMAZONGÁS|    01/12/2021|           115|\n",
            "|SOUSA & ALVES COM...|SUPERGASBRAS ENERGIA|    01/12/2021|         99,99|\n",
            "|MARLIM COMBUSTIVE...|            LIQUIGÁS|    01/12/2021|         98,99|\n",
            "|AUTO SHOPPING DER...|            ULTRAGAZ|    01/12/2021|         98,99|\n",
            "|LR COMERCIO DE PR...|              BRANCA|    01/12/2021|         99,99|\n",
            "|CASCOL COMBUSTIVE...|            ULTRAGAZ|    01/12/2021|         99,99|\n",
            "|CASCOL COMBUSTIVE...|            LIQUIGÁS|    01/12/2021|         99,99|\n",
            "|CASCOL COMBUSTIVE...|            ULTRAGAZ|    01/12/2021|         97,99|\n",
            "|POSTO DOS PODERES...|SUPERGASBRAS ENERGIA|    01/12/2021|           100|\n",
            "|RIBEIRO DE MENDON...|             COPAGAZ|    01/12/2021|           116|\n",
            "|AUTO POSTO MALIBU...|            LIQUIGÁS|    01/12/2021|         95,99|\n",
            "| POSTO ROUXINOL LTDA|             COPAGAZ|    01/12/2021|            98|\n",
            "|GABIATTI & GABIAT...|            LIQUIGÁS|    01/12/2021|            95|\n",
            "|AUTO POSTO GK EIRELI| NACIONAL GÁS BUTANO|    01/12/2021|           112|\n",
            "|GP PETROLEO COMER...|SUPERGASBRAS ENERGIA|    01/12/2021|           118|\n",
            "|IRMAOS TEIXEIRA LTDA|             BAHIANA|    01/12/2021|           113|\n",
            "+--------------------+--------------------+--------------+--------------+\n",
            "only showing top 20 rows\n",
            "\n"
          ]
        }
      ]
    },
    {
      "cell_type": "code",
      "source": [
        "#other way to declare a dataset column, it will be useful later\n",
        "precogas.select(precogas.Revenda.alias('Revendedora'),precogas.Bandeira).show()"
      ],
      "metadata": {
        "colab": {
          "base_uri": "https://localhost:8080/"
        },
        "id": "7dxN1z7N9NDI",
        "outputId": "4e892a6a-3f0d-436f-e680-4d5db743255e"
      },
      "execution_count": null,
      "outputs": [
        {
          "output_type": "stream",
          "name": "stdout",
          "text": [
            "+--------------------+--------------------+\n",
            "|         Revendedora|            Bandeira|\n",
            "+--------------------+--------------------+\n",
            "|CONSIGAZ DISTRIBU...|            CONSIGAZ|\n",
            "|AUTO POSTO AMAPA ...|               FOGAS|\n",
            "|AUTO POSTO ACAUAN...|           AMAZONGÁS|\n",
            "|AUTO POSTO CANIND...|           AMAZONGÁS|\n",
            "|AUTO POSTO AEROPO...|           AMAZONGÁS|\n",
            "|SOUSA & ALVES COM...|SUPERGASBRAS ENERGIA|\n",
            "|MARLIM COMBUSTIVE...|            LIQUIGÁS|\n",
            "|AUTO SHOPPING DER...|            ULTRAGAZ|\n",
            "|LR COMERCIO DE PR...|              BRANCA|\n",
            "|CASCOL COMBUSTIVE...|            ULTRAGAZ|\n",
            "|CASCOL COMBUSTIVE...|            LIQUIGÁS|\n",
            "|CASCOL COMBUSTIVE...|            ULTRAGAZ|\n",
            "|POSTO DOS PODERES...|SUPERGASBRAS ENERGIA|\n",
            "|RIBEIRO DE MENDON...|             COPAGAZ|\n",
            "|AUTO POSTO MALIBU...|            LIQUIGÁS|\n",
            "| POSTO ROUXINOL LTDA|             COPAGAZ|\n",
            "|GABIATTI & GABIAT...|            LIQUIGÁS|\n",
            "|AUTO POSTO GK EIRELI| NACIONAL GÁS BUTANO|\n",
            "|GP PETROLEO COMER...|SUPERGASBRAS ENERGIA|\n",
            "|IRMAOS TEIXEIRA LTDA|             BAHIANA|\n",
            "+--------------------+--------------------+\n",
            "only showing top 20 rows\n",
            "\n"
          ]
        }
      ]
    },
    {
      "cell_type": "code",
      "source": [
        "#duplicating the \"Bandeira\" column and putting the letters in lower case\n",
        "precogas.withColumn(colName = \"teste\", col = lower('Bandeira')).show()"
      ],
      "metadata": {
        "colab": {
          "base_uri": "https://localhost:8080/"
        },
        "id": "_qmlgg1m9wfo",
        "outputId": "604f6f59-6af0-4d50-dc95-66ed1997e6b5"
      },
      "execution_count": null,
      "outputs": [
        {
          "output_type": "stream",
          "name": "stdout",
          "text": [
            "+--------------+--------------+------------+--------------------+-------------------+--------------------+----------+----------------+-----------------+---------+-------+--------------+--------------+---------------+-----------------+--------------------+--------------------+\n",
            "|Regiao - Sigla|Estado - Sigla|   Municipio|             Revenda|    CNPJ da Revenda|         Nome da Rua|Numero Rua|     Complemento|           Bairro|      Cep|Produto|Data da Coleta|Valor de Venda|Valor de Compra|Unidade de Medida|            Bandeira|               teste|\n",
            "+--------------+--------------+------------+--------------------+-------------------+--------------------+----------+----------------+-----------------+---------+-------+--------------+--------------+---------------+-----------------+--------------------+--------------------+\n",
            "|            SE|            SP| SAO VICENTE|CONSIGAZ DISTRIBU...| 01.597.589/0003-81| RUA MANOEL DE ABREU|       790|      QUADRA 108|   CIDADE NAUTICA|11355-400|    GLP|    01/12/2021|         97,99|           null|       R$ / 13 kg|            CONSIGAZ|            consigaz|\n",
            "|             N|            AC|  RIO BRANCO|AUTO POSTO AMAPA ...| 00.529.581/0001-53|    VIA CHICO MENDES|      3570|            null|            AREAL|69906-119|    GLP|    01/12/2021|           115|           null|       R$ / 13 kg|               FOGAS|               fogas|\n",
            "|             N|            AC|  RIO BRANCO|AUTO POSTO ACAUAN...| 00.524.999/0001-78|       RODOVIA AC 40|      1800|            null|        VILA ACRE|69902-450|    GLP|    01/12/2021|           110|           null|       R$ / 13 kg|           AMAZONGÁS|           amazongás|\n",
            "|             N|            AC|  RIO BRANCO|AUTO POSTO CANIND...| 05.442.544/0001-27|       RODOVIA AC 40|      3206|           KM 07|        VILA ACRE|69902-450|    GLP|    01/12/2021|           115|           null|       R$ / 13 kg|           AMAZONGÁS|           amazongás|\n",
            "|             N|            AC|  RIO BRANCO|AUTO POSTO AEROPO...| 14.294.227/0001-00|      V CHICO MENDES|      2583|            null|           COMARA|69906-326|    GLP|    01/12/2021|           115|           null|       R$ / 13 kg|           AMAZONGÁS|           amazongás|\n",
            "|            CO|            DF|    BRASILIA|SOUSA & ALVES COM...| 07.111.605/0001-07| QNM 15 LOTE G AR...|       S/N|            null|        CEILANDIA|72215-150|    GLP|    01/12/2021|         99,99|           null|       R$ / 13 kg|SUPERGASBRAS ENERGIA|supergasbras energia|\n",
            "|            CO|            DF|    BRASILIA|MARLIM COMBUSTIVE...| 04.494.011/0001-26|          QNO 06 PLL|       S/N|            null|        CEILÂNDIA|72237-100|    GLP|    01/12/2021|         98,99|           null|       R$ / 13 kg|            LIQUIGÁS|            liquigás|\n",
            "|            CO|            DF|    BRASILIA|AUTO SHOPPING DER...| 37.063.328/0009-14| QI 19 LOTES 02 E 04|       S/N|SETOR INDUSTRIAL|       TAGUATINGA|72120-190|    GLP|    01/12/2021|         98,99|           null|       R$ / 13 kg|            ULTRAGAZ|            ultragaz|\n",
            "|            CO|            DF|    BRASILIA|LR COMERCIO DE PR...| 24.912.669/0001-18|              QNO 15|       S/N|        LOTE PLL|        CEILANDIA|72255-600|    GLP|    01/12/2021|         99,99|           null|       R$ / 13 kg|              BRANCA|              branca|\n",
            "|            CO|            DF|    BRASILIA|CASCOL COMBUSTIVE...| 00.306.597/0015-00|QUADRA QR 516 CON...|         1|            null|    SAMAMBAIA SUL|70772-500|    GLP|    01/12/2021|         99,99|           null|       R$ / 13 kg|            ULTRAGAZ|            ultragaz|\n",
            "|            CO|            DF|    BRASILIA|CASCOL COMBUSTIVE...| 00.306.597/0017-64|   QUADRA QNO 05 PLL|       S/N|            null|        CEILANDIA|72251-000|    GLP|    01/12/2021|         99,99|           null|       R$ / 13 kg|            LIQUIGÁS|            liquigás|\n",
            "|            CO|            DF|    BRASILIA|CASCOL COMBUSTIVE...| 00.306.597/0008-73|   SETOR CSD 06 LOTE|        36|     SETOR D SUL|       TAGUATINGA|72020-000|    GLP|    01/12/2021|         97,99|           null|       R$ / 13 kg|            ULTRAGAZ|            ultragaz|\n",
            "|            CO|            MS|CAMPO GRANDE|POSTO DOS PODERES...| 24.624.785/0001-31|    AVENIDA DO POETA|       990|            null| DO DESBARRANCADO|79031-350|    GLP|    01/12/2021|           100|           null|       R$ / 13 kg|SUPERGASBRAS ENERGIA|supergasbras energia|\n",
            "|            CO|            MS|CAMPO GRANDE|RIBEIRO DE MENDON...| 16.045.015/0001-06| AVENIDA AFONSO PENA|      5264|            null|CHACARA CACHOEIRA|79040-010|    GLP|    01/12/2021|           116|           null|       R$ / 13 kg|             COPAGAZ|             copagaz|\n",
            "|            CO|            MS|CAMPO GRANDE|AUTO POSTO MALIBU...| 02.110.486/0001-46|RUA JOSE NOGUEIRA...|      1310|            null|       TIRADENTES|79042-010|    GLP|    01/12/2021|         95,99|           null|       R$ / 13 kg|            LIQUIGÁS|            liquigás|\n",
            "|            CO|            MS|CAMPO GRANDE| POSTO ROUXINOL LTDA| 00.413.865/0001-80|    AVENIDA ROUXINOL|        35|            null|       TIRADENTES|79041-150|    GLP|    01/12/2021|            98|           null|       R$ / 13 kg|             COPAGAZ|             copagaz|\n",
            "|            CO|            MS|    DOURADOS|GABIATTI & GABIAT...| 04.075.654/0001-35|RUA CORONEL PONCIANO|      2230|            null|  VILA INDUSTRIAL|79840-230|    GLP|    01/12/2021|            95|           null|       R$ / 13 kg|            LIQUIGÁS|            liquigás|\n",
            "|             N|            PA|       BELEM|AUTO POSTO GK EIRELI| 07.909.407/0001-85|AVENIDA DUQUE DE ...|      1169|            null|            MARCO|66093-400|    GLP|    01/12/2021|           112|           null|       R$ / 13 kg| NACIONAL GÁS BUTANO| nacional gás butano|\n",
            "|             N|            PA|       BELEM|GP PETROLEO COMER...| 06.945.995/0002-20|AVENIDA GENERALIS...|       306|            null|         UMARIZAL|66055-240|    GLP|    01/12/2021|           118|           null|       R$ / 13 kg|SUPERGASBRAS ENERGIA|supergasbras energia|\n",
            "|             N|            PA|       BELEM|IRMAOS TEIXEIRA LTDA| 04.976.718/0003-30|AVENIDA PEDRO ALV...|      3800|            null|       SACRAMENTA|66120-620|    GLP|    01/12/2021|           113|           null|       R$ / 13 kg|             BAHIANA|             bahiana|\n",
            "+--------------+--------------+------------+--------------------+-------------------+--------------------+----------+----------------+-----------------+---------+-------+--------------+--------------+---------------+-----------------+--------------------+--------------------+\n",
            "only showing top 20 rows\n",
            "\n"
          ]
        }
      ]
    },
    {
      "cell_type": "code",
      "source": [
        "#duplicating the \"Bandeira\" column\n",
        "precogas.withColumn(\"teste\", precogas.Bandeira).show()"
      ],
      "metadata": {
        "colab": {
          "base_uri": "https://localhost:8080/"
        },
        "id": "Ihf0_jx7-aO4",
        "outputId": "0f6720c3-85d3-4c36-d031-77ff6ba3867c"
      },
      "execution_count": null,
      "outputs": [
        {
          "output_type": "stream",
          "name": "stdout",
          "text": [
            "+--------------+--------------+------------+--------------------+-------------------+--------------------+----------+----------------+-----------------+---------+-------+--------------+--------------+---------------+-----------------+--------------------+--------------------+\n",
            "|Regiao - Sigla|Estado - Sigla|   Municipio|             Revenda|    CNPJ da Revenda|         Nome da Rua|Numero Rua|     Complemento|           Bairro|      Cep|Produto|Data da Coleta|Valor de Venda|Valor de Compra|Unidade de Medida|            Bandeira|               teste|\n",
            "+--------------+--------------+------------+--------------------+-------------------+--------------------+----------+----------------+-----------------+---------+-------+--------------+--------------+---------------+-----------------+--------------------+--------------------+\n",
            "|            SE|            SP| SAO VICENTE|CONSIGAZ DISTRIBU...| 01.597.589/0003-81| RUA MANOEL DE ABREU|       790|      QUADRA 108|   CIDADE NAUTICA|11355-400|    GLP|    01/12/2021|         97,99|           null|       R$ / 13 kg|            CONSIGAZ|            CONSIGAZ|\n",
            "|             N|            AC|  RIO BRANCO|AUTO POSTO AMAPA ...| 00.529.581/0001-53|    VIA CHICO MENDES|      3570|            null|            AREAL|69906-119|    GLP|    01/12/2021|           115|           null|       R$ / 13 kg|               FOGAS|               FOGAS|\n",
            "|             N|            AC|  RIO BRANCO|AUTO POSTO ACAUAN...| 00.524.999/0001-78|       RODOVIA AC 40|      1800|            null|        VILA ACRE|69902-450|    GLP|    01/12/2021|           110|           null|       R$ / 13 kg|           AMAZONGÁS|           AMAZONGÁS|\n",
            "|             N|            AC|  RIO BRANCO|AUTO POSTO CANIND...| 05.442.544/0001-27|       RODOVIA AC 40|      3206|           KM 07|        VILA ACRE|69902-450|    GLP|    01/12/2021|           115|           null|       R$ / 13 kg|           AMAZONGÁS|           AMAZONGÁS|\n",
            "|             N|            AC|  RIO BRANCO|AUTO POSTO AEROPO...| 14.294.227/0001-00|      V CHICO MENDES|      2583|            null|           COMARA|69906-326|    GLP|    01/12/2021|           115|           null|       R$ / 13 kg|           AMAZONGÁS|           AMAZONGÁS|\n",
            "|            CO|            DF|    BRASILIA|SOUSA & ALVES COM...| 07.111.605/0001-07| QNM 15 LOTE G AR...|       S/N|            null|        CEILANDIA|72215-150|    GLP|    01/12/2021|         99,99|           null|       R$ / 13 kg|SUPERGASBRAS ENERGIA|SUPERGASBRAS ENERGIA|\n",
            "|            CO|            DF|    BRASILIA|MARLIM COMBUSTIVE...| 04.494.011/0001-26|          QNO 06 PLL|       S/N|            null|        CEILÂNDIA|72237-100|    GLP|    01/12/2021|         98,99|           null|       R$ / 13 kg|            LIQUIGÁS|            LIQUIGÁS|\n",
            "|            CO|            DF|    BRASILIA|AUTO SHOPPING DER...| 37.063.328/0009-14| QI 19 LOTES 02 E 04|       S/N|SETOR INDUSTRIAL|       TAGUATINGA|72120-190|    GLP|    01/12/2021|         98,99|           null|       R$ / 13 kg|            ULTRAGAZ|            ULTRAGAZ|\n",
            "|            CO|            DF|    BRASILIA|LR COMERCIO DE PR...| 24.912.669/0001-18|              QNO 15|       S/N|        LOTE PLL|        CEILANDIA|72255-600|    GLP|    01/12/2021|         99,99|           null|       R$ / 13 kg|              BRANCA|              BRANCA|\n",
            "|            CO|            DF|    BRASILIA|CASCOL COMBUSTIVE...| 00.306.597/0015-00|QUADRA QR 516 CON...|         1|            null|    SAMAMBAIA SUL|70772-500|    GLP|    01/12/2021|         99,99|           null|       R$ / 13 kg|            ULTRAGAZ|            ULTRAGAZ|\n",
            "|            CO|            DF|    BRASILIA|CASCOL COMBUSTIVE...| 00.306.597/0017-64|   QUADRA QNO 05 PLL|       S/N|            null|        CEILANDIA|72251-000|    GLP|    01/12/2021|         99,99|           null|       R$ / 13 kg|            LIQUIGÁS|            LIQUIGÁS|\n",
            "|            CO|            DF|    BRASILIA|CASCOL COMBUSTIVE...| 00.306.597/0008-73|   SETOR CSD 06 LOTE|        36|     SETOR D SUL|       TAGUATINGA|72020-000|    GLP|    01/12/2021|         97,99|           null|       R$ / 13 kg|            ULTRAGAZ|            ULTRAGAZ|\n",
            "|            CO|            MS|CAMPO GRANDE|POSTO DOS PODERES...| 24.624.785/0001-31|    AVENIDA DO POETA|       990|            null| DO DESBARRANCADO|79031-350|    GLP|    01/12/2021|           100|           null|       R$ / 13 kg|SUPERGASBRAS ENERGIA|SUPERGASBRAS ENERGIA|\n",
            "|            CO|            MS|CAMPO GRANDE|RIBEIRO DE MENDON...| 16.045.015/0001-06| AVENIDA AFONSO PENA|      5264|            null|CHACARA CACHOEIRA|79040-010|    GLP|    01/12/2021|           116|           null|       R$ / 13 kg|             COPAGAZ|             COPAGAZ|\n",
            "|            CO|            MS|CAMPO GRANDE|AUTO POSTO MALIBU...| 02.110.486/0001-46|RUA JOSE NOGUEIRA...|      1310|            null|       TIRADENTES|79042-010|    GLP|    01/12/2021|         95,99|           null|       R$ / 13 kg|            LIQUIGÁS|            LIQUIGÁS|\n",
            "|            CO|            MS|CAMPO GRANDE| POSTO ROUXINOL LTDA| 00.413.865/0001-80|    AVENIDA ROUXINOL|        35|            null|       TIRADENTES|79041-150|    GLP|    01/12/2021|            98|           null|       R$ / 13 kg|             COPAGAZ|             COPAGAZ|\n",
            "|            CO|            MS|    DOURADOS|GABIATTI & GABIAT...| 04.075.654/0001-35|RUA CORONEL PONCIANO|      2230|            null|  VILA INDUSTRIAL|79840-230|    GLP|    01/12/2021|            95|           null|       R$ / 13 kg|            LIQUIGÁS|            LIQUIGÁS|\n",
            "|             N|            PA|       BELEM|AUTO POSTO GK EIRELI| 07.909.407/0001-85|AVENIDA DUQUE DE ...|      1169|            null|            MARCO|66093-400|    GLP|    01/12/2021|           112|           null|       R$ / 13 kg| NACIONAL GÁS BUTANO| NACIONAL GÁS BUTANO|\n",
            "|             N|            PA|       BELEM|GP PETROLEO COMER...| 06.945.995/0002-20|AVENIDA GENERALIS...|       306|            null|         UMARIZAL|66055-240|    GLP|    01/12/2021|           118|           null|       R$ / 13 kg|SUPERGASBRAS ENERGIA|SUPERGASBRAS ENERGIA|\n",
            "|             N|            PA|       BELEM|IRMAOS TEIXEIRA LTDA| 04.976.718/0003-30|AVENIDA PEDRO ALV...|      3800|            null|       SACRAMENTA|66120-620|    GLP|    01/12/2021|           113|           null|       R$ / 13 kg|             BAHIANA|             BAHIANA|\n",
            "+--------------+--------------+------------+--------------------+-------------------+--------------------+----------+----------------+-----------------+---------+-------+--------------+--------------+---------------+-----------------+--------------------+--------------------+\n",
            "only showing top 20 rows\n",
            "\n"
          ]
        }
      ]
    },
    {
      "cell_type": "code",
      "source": [
        "#replacing column values\n",
        "precogas.withColumn(\n",
        "    colName = 'Data da Coleta', \n",
        "    col = regexp_replace('Data da Coleta','/','-')\n",
        "    ).show()\n",
        "\n",
        "#other way\n",
        "precogas.replace( \n",
        "  to_replace = 'GLP',\n",
        "  value = 'GAS DE COZINHA', \n",
        "  subset = 'produto').show()"
      ],
      "metadata": {
        "colab": {
          "base_uri": "https://localhost:8080/"
        },
        "id": "cbsljxxp-gL4",
        "outputId": "113a2a77-94d5-455e-e980-28564d8424fe"
      },
      "execution_count": null,
      "outputs": [
        {
          "output_type": "stream",
          "name": "stdout",
          "text": [
            "+--------------+--------------+------------+--------------------+-------------------+--------------------+----------+----------------+-----------------+---------+-------+--------------+--------------+---------------+-----------------+--------------------+\n",
            "|Regiao - Sigla|Estado - Sigla|   Municipio|             Revenda|    CNPJ da Revenda|         Nome da Rua|Numero Rua|     Complemento|           Bairro|      Cep|Produto|Data da Coleta|Valor de Venda|Valor de Compra|Unidade de Medida|            Bandeira|\n",
            "+--------------+--------------+------------+--------------------+-------------------+--------------------+----------+----------------+-----------------+---------+-------+--------------+--------------+---------------+-----------------+--------------------+\n",
            "|            SE|            SP| SAO VICENTE|CONSIGAZ DISTRIBU...| 01.597.589/0003-81| RUA MANOEL DE ABREU|       790|      QUADRA 108|   CIDADE NAUTICA|11355-400|    GLP|    01-12-2021|         97,99|           null|       R$ / 13 kg|            CONSIGAZ|\n",
            "|             N|            AC|  RIO BRANCO|AUTO POSTO AMAPA ...| 00.529.581/0001-53|    VIA CHICO MENDES|      3570|            null|            AREAL|69906-119|    GLP|    01-12-2021|           115|           null|       R$ / 13 kg|               FOGAS|\n",
            "|             N|            AC|  RIO BRANCO|AUTO POSTO ACAUAN...| 00.524.999/0001-78|       RODOVIA AC 40|      1800|            null|        VILA ACRE|69902-450|    GLP|    01-12-2021|           110|           null|       R$ / 13 kg|           AMAZONGÁS|\n",
            "|             N|            AC|  RIO BRANCO|AUTO POSTO CANIND...| 05.442.544/0001-27|       RODOVIA AC 40|      3206|           KM 07|        VILA ACRE|69902-450|    GLP|    01-12-2021|           115|           null|       R$ / 13 kg|           AMAZONGÁS|\n",
            "|             N|            AC|  RIO BRANCO|AUTO POSTO AEROPO...| 14.294.227/0001-00|      V CHICO MENDES|      2583|            null|           COMARA|69906-326|    GLP|    01-12-2021|           115|           null|       R$ / 13 kg|           AMAZONGÁS|\n",
            "|            CO|            DF|    BRASILIA|SOUSA & ALVES COM...| 07.111.605/0001-07| QNM 15 LOTE G AR...|       S/N|            null|        CEILANDIA|72215-150|    GLP|    01-12-2021|         99,99|           null|       R$ / 13 kg|SUPERGASBRAS ENERGIA|\n",
            "|            CO|            DF|    BRASILIA|MARLIM COMBUSTIVE...| 04.494.011/0001-26|          QNO 06 PLL|       S/N|            null|        CEILÂNDIA|72237-100|    GLP|    01-12-2021|         98,99|           null|       R$ / 13 kg|            LIQUIGÁS|\n",
            "|            CO|            DF|    BRASILIA|AUTO SHOPPING DER...| 37.063.328/0009-14| QI 19 LOTES 02 E 04|       S/N|SETOR INDUSTRIAL|       TAGUATINGA|72120-190|    GLP|    01-12-2021|         98,99|           null|       R$ / 13 kg|            ULTRAGAZ|\n",
            "|            CO|            DF|    BRASILIA|LR COMERCIO DE PR...| 24.912.669/0001-18|              QNO 15|       S/N|        LOTE PLL|        CEILANDIA|72255-600|    GLP|    01-12-2021|         99,99|           null|       R$ / 13 kg|              BRANCA|\n",
            "|            CO|            DF|    BRASILIA|CASCOL COMBUSTIVE...| 00.306.597/0015-00|QUADRA QR 516 CON...|         1|            null|    SAMAMBAIA SUL|70772-500|    GLP|    01-12-2021|         99,99|           null|       R$ / 13 kg|            ULTRAGAZ|\n",
            "|            CO|            DF|    BRASILIA|CASCOL COMBUSTIVE...| 00.306.597/0017-64|   QUADRA QNO 05 PLL|       S/N|            null|        CEILANDIA|72251-000|    GLP|    01-12-2021|         99,99|           null|       R$ / 13 kg|            LIQUIGÁS|\n",
            "|            CO|            DF|    BRASILIA|CASCOL COMBUSTIVE...| 00.306.597/0008-73|   SETOR CSD 06 LOTE|        36|     SETOR D SUL|       TAGUATINGA|72020-000|    GLP|    01-12-2021|         97,99|           null|       R$ / 13 kg|            ULTRAGAZ|\n",
            "|            CO|            MS|CAMPO GRANDE|POSTO DOS PODERES...| 24.624.785/0001-31|    AVENIDA DO POETA|       990|            null| DO DESBARRANCADO|79031-350|    GLP|    01-12-2021|           100|           null|       R$ / 13 kg|SUPERGASBRAS ENERGIA|\n",
            "|            CO|            MS|CAMPO GRANDE|RIBEIRO DE MENDON...| 16.045.015/0001-06| AVENIDA AFONSO PENA|      5264|            null|CHACARA CACHOEIRA|79040-010|    GLP|    01-12-2021|           116|           null|       R$ / 13 kg|             COPAGAZ|\n",
            "|            CO|            MS|CAMPO GRANDE|AUTO POSTO MALIBU...| 02.110.486/0001-46|RUA JOSE NOGUEIRA...|      1310|            null|       TIRADENTES|79042-010|    GLP|    01-12-2021|         95,99|           null|       R$ / 13 kg|            LIQUIGÁS|\n",
            "|            CO|            MS|CAMPO GRANDE| POSTO ROUXINOL LTDA| 00.413.865/0001-80|    AVENIDA ROUXINOL|        35|            null|       TIRADENTES|79041-150|    GLP|    01-12-2021|            98|           null|       R$ / 13 kg|             COPAGAZ|\n",
            "|            CO|            MS|    DOURADOS|GABIATTI & GABIAT...| 04.075.654/0001-35|RUA CORONEL PONCIANO|      2230|            null|  VILA INDUSTRIAL|79840-230|    GLP|    01-12-2021|            95|           null|       R$ / 13 kg|            LIQUIGÁS|\n",
            "|             N|            PA|       BELEM|AUTO POSTO GK EIRELI| 07.909.407/0001-85|AVENIDA DUQUE DE ...|      1169|            null|            MARCO|66093-400|    GLP|    01-12-2021|           112|           null|       R$ / 13 kg| NACIONAL GÁS BUTANO|\n",
            "|             N|            PA|       BELEM|GP PETROLEO COMER...| 06.945.995/0002-20|AVENIDA GENERALIS...|       306|            null|         UMARIZAL|66055-240|    GLP|    01-12-2021|           118|           null|       R$ / 13 kg|SUPERGASBRAS ENERGIA|\n",
            "|             N|            PA|       BELEM|IRMAOS TEIXEIRA LTDA| 04.976.718/0003-30|AVENIDA PEDRO ALV...|      3800|            null|       SACRAMENTA|66120-620|    GLP|    01-12-2021|           113|           null|       R$ / 13 kg|             BAHIANA|\n",
            "+--------------+--------------+------------+--------------------+-------------------+--------------------+----------+----------------+-----------------+---------+-------+--------------+--------------+---------------+-----------------+--------------------+\n",
            "only showing top 20 rows\n",
            "\n",
            "+--------------+--------------+------------+--------------------+-------------------+--------------------+----------+----------------+-----------------+---------+--------------+--------------+--------------+---------------+-----------------+--------------------+\n",
            "|Regiao - Sigla|Estado - Sigla|   Municipio|             Revenda|    CNPJ da Revenda|         Nome da Rua|Numero Rua|     Complemento|           Bairro|      Cep|       Produto|Data da Coleta|Valor de Venda|Valor de Compra|Unidade de Medida|            Bandeira|\n",
            "+--------------+--------------+------------+--------------------+-------------------+--------------------+----------+----------------+-----------------+---------+--------------+--------------+--------------+---------------+-----------------+--------------------+\n",
            "|            SE|            SP| SAO VICENTE|CONSIGAZ DISTRIBU...| 01.597.589/0003-81| RUA MANOEL DE ABREU|       790|      QUADRA 108|   CIDADE NAUTICA|11355-400|GAS DE COZINHA|    01/12/2021|         97,99|           null|       R$ / 13 kg|            CONSIGAZ|\n",
            "|             N|            AC|  RIO BRANCO|AUTO POSTO AMAPA ...| 00.529.581/0001-53|    VIA CHICO MENDES|      3570|            null|            AREAL|69906-119|GAS DE COZINHA|    01/12/2021|           115|           null|       R$ / 13 kg|               FOGAS|\n",
            "|             N|            AC|  RIO BRANCO|AUTO POSTO ACAUAN...| 00.524.999/0001-78|       RODOVIA AC 40|      1800|            null|        VILA ACRE|69902-450|GAS DE COZINHA|    01/12/2021|           110|           null|       R$ / 13 kg|           AMAZONGÁS|\n",
            "|             N|            AC|  RIO BRANCO|AUTO POSTO CANIND...| 05.442.544/0001-27|       RODOVIA AC 40|      3206|           KM 07|        VILA ACRE|69902-450|GAS DE COZINHA|    01/12/2021|           115|           null|       R$ / 13 kg|           AMAZONGÁS|\n",
            "|             N|            AC|  RIO BRANCO|AUTO POSTO AEROPO...| 14.294.227/0001-00|      V CHICO MENDES|      2583|            null|           COMARA|69906-326|GAS DE COZINHA|    01/12/2021|           115|           null|       R$ / 13 kg|           AMAZONGÁS|\n",
            "|            CO|            DF|    BRASILIA|SOUSA & ALVES COM...| 07.111.605/0001-07| QNM 15 LOTE G AR...|       S/N|            null|        CEILANDIA|72215-150|GAS DE COZINHA|    01/12/2021|         99,99|           null|       R$ / 13 kg|SUPERGASBRAS ENERGIA|\n",
            "|            CO|            DF|    BRASILIA|MARLIM COMBUSTIVE...| 04.494.011/0001-26|          QNO 06 PLL|       S/N|            null|        CEILÂNDIA|72237-100|GAS DE COZINHA|    01/12/2021|         98,99|           null|       R$ / 13 kg|            LIQUIGÁS|\n",
            "|            CO|            DF|    BRASILIA|AUTO SHOPPING DER...| 37.063.328/0009-14| QI 19 LOTES 02 E 04|       S/N|SETOR INDUSTRIAL|       TAGUATINGA|72120-190|GAS DE COZINHA|    01/12/2021|         98,99|           null|       R$ / 13 kg|            ULTRAGAZ|\n",
            "|            CO|            DF|    BRASILIA|LR COMERCIO DE PR...| 24.912.669/0001-18|              QNO 15|       S/N|        LOTE PLL|        CEILANDIA|72255-600|GAS DE COZINHA|    01/12/2021|         99,99|           null|       R$ / 13 kg|              BRANCA|\n",
            "|            CO|            DF|    BRASILIA|CASCOL COMBUSTIVE...| 00.306.597/0015-00|QUADRA QR 516 CON...|         1|            null|    SAMAMBAIA SUL|70772-500|GAS DE COZINHA|    01/12/2021|         99,99|           null|       R$ / 13 kg|            ULTRAGAZ|\n",
            "|            CO|            DF|    BRASILIA|CASCOL COMBUSTIVE...| 00.306.597/0017-64|   QUADRA QNO 05 PLL|       S/N|            null|        CEILANDIA|72251-000|GAS DE COZINHA|    01/12/2021|         99,99|           null|       R$ / 13 kg|            LIQUIGÁS|\n",
            "|            CO|            DF|    BRASILIA|CASCOL COMBUSTIVE...| 00.306.597/0008-73|   SETOR CSD 06 LOTE|        36|     SETOR D SUL|       TAGUATINGA|72020-000|GAS DE COZINHA|    01/12/2021|         97,99|           null|       R$ / 13 kg|            ULTRAGAZ|\n",
            "|            CO|            MS|CAMPO GRANDE|POSTO DOS PODERES...| 24.624.785/0001-31|    AVENIDA DO POETA|       990|            null| DO DESBARRANCADO|79031-350|GAS DE COZINHA|    01/12/2021|           100|           null|       R$ / 13 kg|SUPERGASBRAS ENERGIA|\n",
            "|            CO|            MS|CAMPO GRANDE|RIBEIRO DE MENDON...| 16.045.015/0001-06| AVENIDA AFONSO PENA|      5264|            null|CHACARA CACHOEIRA|79040-010|GAS DE COZINHA|    01/12/2021|           116|           null|       R$ / 13 kg|             COPAGAZ|\n",
            "|            CO|            MS|CAMPO GRANDE|AUTO POSTO MALIBU...| 02.110.486/0001-46|RUA JOSE NOGUEIRA...|      1310|            null|       TIRADENTES|79042-010|GAS DE COZINHA|    01/12/2021|         95,99|           null|       R$ / 13 kg|            LIQUIGÁS|\n",
            "|            CO|            MS|CAMPO GRANDE| POSTO ROUXINOL LTDA| 00.413.865/0001-80|    AVENIDA ROUXINOL|        35|            null|       TIRADENTES|79041-150|GAS DE COZINHA|    01/12/2021|            98|           null|       R$ / 13 kg|             COPAGAZ|\n",
            "|            CO|            MS|    DOURADOS|GABIATTI & GABIAT...| 04.075.654/0001-35|RUA CORONEL PONCIANO|      2230|            null|  VILA INDUSTRIAL|79840-230|GAS DE COZINHA|    01/12/2021|            95|           null|       R$ / 13 kg|            LIQUIGÁS|\n",
            "|             N|            PA|       BELEM|AUTO POSTO GK EIRELI| 07.909.407/0001-85|AVENIDA DUQUE DE ...|      1169|            null|            MARCO|66093-400|GAS DE COZINHA|    01/12/2021|           112|           null|       R$ / 13 kg| NACIONAL GÁS BUTANO|\n",
            "|             N|            PA|       BELEM|GP PETROLEO COMER...| 06.945.995/0002-20|AVENIDA GENERALIS...|       306|            null|         UMARIZAL|66055-240|GAS DE COZINHA|    01/12/2021|           118|           null|       R$ / 13 kg|SUPERGASBRAS ENERGIA|\n",
            "|             N|            PA|       BELEM|IRMAOS TEIXEIRA LTDA| 04.976.718/0003-30|AVENIDA PEDRO ALV...|      3800|            null|       SACRAMENTA|66120-620|GAS DE COZINHA|    01/12/2021|           113|           null|       R$ / 13 kg|             BAHIANA|\n",
            "+--------------+--------------+------------+--------------------+-------------------+--------------------+----------+----------------+-----------------+---------+--------------+--------------+--------------+---------------+-----------------+--------------------+\n",
            "only showing top 20 rows\n",
            "\n"
          ]
        }
      ]
    },
    {
      "cell_type": "code",
      "source": [
        "#renaming column\n",
        "precogas.withColumnRenamed(existing = 'Estado - Sigla', new = 'Estado').show()"
      ],
      "metadata": {
        "colab": {
          "base_uri": "https://localhost:8080/"
        },
        "id": "XmdOOlDo-8Wx",
        "outputId": "e78aa0c4-c472-4dfc-e50a-7c8d79653618"
      },
      "execution_count": null,
      "outputs": [
        {
          "output_type": "stream",
          "name": "stdout",
          "text": [
            "+--------------+------+------------+--------------------+-------------------+--------------------+----------+----------------+-----------------+---------+-------+--------------+--------------+---------------+-----------------+--------------------+\n",
            "|Regiao - Sigla|Estado|   Municipio|             Revenda|    CNPJ da Revenda|         Nome da Rua|Numero Rua|     Complemento|           Bairro|      Cep|Produto|Data da Coleta|Valor de Venda|Valor de Compra|Unidade de Medida|            Bandeira|\n",
            "+--------------+------+------------+--------------------+-------------------+--------------------+----------+----------------+-----------------+---------+-------+--------------+--------------+---------------+-----------------+--------------------+\n",
            "|            SE|    SP| SAO VICENTE|CONSIGAZ DISTRIBU...| 01.597.589/0003-81| RUA MANOEL DE ABREU|       790|      QUADRA 108|   CIDADE NAUTICA|11355-400|    GLP|    01/12/2021|         97,99|           null|       R$ / 13 kg|            CONSIGAZ|\n",
            "|             N|    AC|  RIO BRANCO|AUTO POSTO AMAPA ...| 00.529.581/0001-53|    VIA CHICO MENDES|      3570|            null|            AREAL|69906-119|    GLP|    01/12/2021|           115|           null|       R$ / 13 kg|               FOGAS|\n",
            "|             N|    AC|  RIO BRANCO|AUTO POSTO ACAUAN...| 00.524.999/0001-78|       RODOVIA AC 40|      1800|            null|        VILA ACRE|69902-450|    GLP|    01/12/2021|           110|           null|       R$ / 13 kg|           AMAZONGÁS|\n",
            "|             N|    AC|  RIO BRANCO|AUTO POSTO CANIND...| 05.442.544/0001-27|       RODOVIA AC 40|      3206|           KM 07|        VILA ACRE|69902-450|    GLP|    01/12/2021|           115|           null|       R$ / 13 kg|           AMAZONGÁS|\n",
            "|             N|    AC|  RIO BRANCO|AUTO POSTO AEROPO...| 14.294.227/0001-00|      V CHICO MENDES|      2583|            null|           COMARA|69906-326|    GLP|    01/12/2021|           115|           null|       R$ / 13 kg|           AMAZONGÁS|\n",
            "|            CO|    DF|    BRASILIA|SOUSA & ALVES COM...| 07.111.605/0001-07| QNM 15 LOTE G AR...|       S/N|            null|        CEILANDIA|72215-150|    GLP|    01/12/2021|         99,99|           null|       R$ / 13 kg|SUPERGASBRAS ENERGIA|\n",
            "|            CO|    DF|    BRASILIA|MARLIM COMBUSTIVE...| 04.494.011/0001-26|          QNO 06 PLL|       S/N|            null|        CEILÂNDIA|72237-100|    GLP|    01/12/2021|         98,99|           null|       R$ / 13 kg|            LIQUIGÁS|\n",
            "|            CO|    DF|    BRASILIA|AUTO SHOPPING DER...| 37.063.328/0009-14| QI 19 LOTES 02 E 04|       S/N|SETOR INDUSTRIAL|       TAGUATINGA|72120-190|    GLP|    01/12/2021|         98,99|           null|       R$ / 13 kg|            ULTRAGAZ|\n",
            "|            CO|    DF|    BRASILIA|LR COMERCIO DE PR...| 24.912.669/0001-18|              QNO 15|       S/N|        LOTE PLL|        CEILANDIA|72255-600|    GLP|    01/12/2021|         99,99|           null|       R$ / 13 kg|              BRANCA|\n",
            "|            CO|    DF|    BRASILIA|CASCOL COMBUSTIVE...| 00.306.597/0015-00|QUADRA QR 516 CON...|         1|            null|    SAMAMBAIA SUL|70772-500|    GLP|    01/12/2021|         99,99|           null|       R$ / 13 kg|            ULTRAGAZ|\n",
            "|            CO|    DF|    BRASILIA|CASCOL COMBUSTIVE...| 00.306.597/0017-64|   QUADRA QNO 05 PLL|       S/N|            null|        CEILANDIA|72251-000|    GLP|    01/12/2021|         99,99|           null|       R$ / 13 kg|            LIQUIGÁS|\n",
            "|            CO|    DF|    BRASILIA|CASCOL COMBUSTIVE...| 00.306.597/0008-73|   SETOR CSD 06 LOTE|        36|     SETOR D SUL|       TAGUATINGA|72020-000|    GLP|    01/12/2021|         97,99|           null|       R$ / 13 kg|            ULTRAGAZ|\n",
            "|            CO|    MS|CAMPO GRANDE|POSTO DOS PODERES...| 24.624.785/0001-31|    AVENIDA DO POETA|       990|            null| DO DESBARRANCADO|79031-350|    GLP|    01/12/2021|           100|           null|       R$ / 13 kg|SUPERGASBRAS ENERGIA|\n",
            "|            CO|    MS|CAMPO GRANDE|RIBEIRO DE MENDON...| 16.045.015/0001-06| AVENIDA AFONSO PENA|      5264|            null|CHACARA CACHOEIRA|79040-010|    GLP|    01/12/2021|           116|           null|       R$ / 13 kg|             COPAGAZ|\n",
            "|            CO|    MS|CAMPO GRANDE|AUTO POSTO MALIBU...| 02.110.486/0001-46|RUA JOSE NOGUEIRA...|      1310|            null|       TIRADENTES|79042-010|    GLP|    01/12/2021|         95,99|           null|       R$ / 13 kg|            LIQUIGÁS|\n",
            "|            CO|    MS|CAMPO GRANDE| POSTO ROUXINOL LTDA| 00.413.865/0001-80|    AVENIDA ROUXINOL|        35|            null|       TIRADENTES|79041-150|    GLP|    01/12/2021|            98|           null|       R$ / 13 kg|             COPAGAZ|\n",
            "|            CO|    MS|    DOURADOS|GABIATTI & GABIAT...| 04.075.654/0001-35|RUA CORONEL PONCIANO|      2230|            null|  VILA INDUSTRIAL|79840-230|    GLP|    01/12/2021|            95|           null|       R$ / 13 kg|            LIQUIGÁS|\n",
            "|             N|    PA|       BELEM|AUTO POSTO GK EIRELI| 07.909.407/0001-85|AVENIDA DUQUE DE ...|      1169|            null|            MARCO|66093-400|    GLP|    01/12/2021|           112|           null|       R$ / 13 kg| NACIONAL GÁS BUTANO|\n",
            "|             N|    PA|       BELEM|GP PETROLEO COMER...| 06.945.995/0002-20|AVENIDA GENERALIS...|       306|            null|         UMARIZAL|66055-240|    GLP|    01/12/2021|           118|           null|       R$ / 13 kg|SUPERGASBRAS ENERGIA|\n",
            "|             N|    PA|       BELEM|IRMAOS TEIXEIRA LTDA| 04.976.718/0003-30|AVENIDA PEDRO ALV...|      3800|            null|       SACRAMENTA|66120-620|    GLP|    01/12/2021|           113|           null|       R$ / 13 kg|             BAHIANA|\n",
            "+--------------+------+------------+--------------------+-------------------+--------------------+----------+----------------+-----------------+---------+-------+--------------+--------------+---------------+-----------------+--------------------+\n",
            "only showing top 20 rows\n",
            "\n"
          ]
        }
      ]
    },
    {
      "cell_type": "code",
      "source": [
        "#deleting column\n",
        "precogas.drop('Municipio','Revenda').show()"
      ],
      "metadata": {
        "colab": {
          "base_uri": "https://localhost:8080/"
        },
        "id": "sG9JGCQa_O5D",
        "outputId": "683f995c-1dcf-4c0f-f8ab-f8a90ed88c5b"
      },
      "execution_count": null,
      "outputs": [
        {
          "output_type": "stream",
          "name": "stdout",
          "text": [
            "+--------------+--------------+-------------------+--------------------+----------+----------------+-----------------+---------+-------+--------------+--------------+---------------+-----------------+--------------------+\n",
            "|Regiao - Sigla|Estado - Sigla|    CNPJ da Revenda|         Nome da Rua|Numero Rua|     Complemento|           Bairro|      Cep|Produto|Data da Coleta|Valor de Venda|Valor de Compra|Unidade de Medida|            Bandeira|\n",
            "+--------------+--------------+-------------------+--------------------+----------+----------------+-----------------+---------+-------+--------------+--------------+---------------+-----------------+--------------------+\n",
            "|            SE|            SP| 01.597.589/0003-81| RUA MANOEL DE ABREU|       790|      QUADRA 108|   CIDADE NAUTICA|11355-400|    GLP|    01/12/2021|         97,99|           null|       R$ / 13 kg|            CONSIGAZ|\n",
            "|             N|            AC| 00.529.581/0001-53|    VIA CHICO MENDES|      3570|            null|            AREAL|69906-119|    GLP|    01/12/2021|           115|           null|       R$ / 13 kg|               FOGAS|\n",
            "|             N|            AC| 00.524.999/0001-78|       RODOVIA AC 40|      1800|            null|        VILA ACRE|69902-450|    GLP|    01/12/2021|           110|           null|       R$ / 13 kg|           AMAZONGÁS|\n",
            "|             N|            AC| 05.442.544/0001-27|       RODOVIA AC 40|      3206|           KM 07|        VILA ACRE|69902-450|    GLP|    01/12/2021|           115|           null|       R$ / 13 kg|           AMAZONGÁS|\n",
            "|             N|            AC| 14.294.227/0001-00|      V CHICO MENDES|      2583|            null|           COMARA|69906-326|    GLP|    01/12/2021|           115|           null|       R$ / 13 kg|           AMAZONGÁS|\n",
            "|            CO|            DF| 07.111.605/0001-07| QNM 15 LOTE G AR...|       S/N|            null|        CEILANDIA|72215-150|    GLP|    01/12/2021|         99,99|           null|       R$ / 13 kg|SUPERGASBRAS ENERGIA|\n",
            "|            CO|            DF| 04.494.011/0001-26|          QNO 06 PLL|       S/N|            null|        CEILÂNDIA|72237-100|    GLP|    01/12/2021|         98,99|           null|       R$ / 13 kg|            LIQUIGÁS|\n",
            "|            CO|            DF| 37.063.328/0009-14| QI 19 LOTES 02 E 04|       S/N|SETOR INDUSTRIAL|       TAGUATINGA|72120-190|    GLP|    01/12/2021|         98,99|           null|       R$ / 13 kg|            ULTRAGAZ|\n",
            "|            CO|            DF| 24.912.669/0001-18|              QNO 15|       S/N|        LOTE PLL|        CEILANDIA|72255-600|    GLP|    01/12/2021|         99,99|           null|       R$ / 13 kg|              BRANCA|\n",
            "|            CO|            DF| 00.306.597/0015-00|QUADRA QR 516 CON...|         1|            null|    SAMAMBAIA SUL|70772-500|    GLP|    01/12/2021|         99,99|           null|       R$ / 13 kg|            ULTRAGAZ|\n",
            "|            CO|            DF| 00.306.597/0017-64|   QUADRA QNO 05 PLL|       S/N|            null|        CEILANDIA|72251-000|    GLP|    01/12/2021|         99,99|           null|       R$ / 13 kg|            LIQUIGÁS|\n",
            "|            CO|            DF| 00.306.597/0008-73|   SETOR CSD 06 LOTE|        36|     SETOR D SUL|       TAGUATINGA|72020-000|    GLP|    01/12/2021|         97,99|           null|       R$ / 13 kg|            ULTRAGAZ|\n",
            "|            CO|            MS| 24.624.785/0001-31|    AVENIDA DO POETA|       990|            null| DO DESBARRANCADO|79031-350|    GLP|    01/12/2021|           100|           null|       R$ / 13 kg|SUPERGASBRAS ENERGIA|\n",
            "|            CO|            MS| 16.045.015/0001-06| AVENIDA AFONSO PENA|      5264|            null|CHACARA CACHOEIRA|79040-010|    GLP|    01/12/2021|           116|           null|       R$ / 13 kg|             COPAGAZ|\n",
            "|            CO|            MS| 02.110.486/0001-46|RUA JOSE NOGUEIRA...|      1310|            null|       TIRADENTES|79042-010|    GLP|    01/12/2021|         95,99|           null|       R$ / 13 kg|            LIQUIGÁS|\n",
            "|            CO|            MS| 00.413.865/0001-80|    AVENIDA ROUXINOL|        35|            null|       TIRADENTES|79041-150|    GLP|    01/12/2021|            98|           null|       R$ / 13 kg|             COPAGAZ|\n",
            "|            CO|            MS| 04.075.654/0001-35|RUA CORONEL PONCIANO|      2230|            null|  VILA INDUSTRIAL|79840-230|    GLP|    01/12/2021|            95|           null|       R$ / 13 kg|            LIQUIGÁS|\n",
            "|             N|            PA| 07.909.407/0001-85|AVENIDA DUQUE DE ...|      1169|            null|            MARCO|66093-400|    GLP|    01/12/2021|           112|           null|       R$ / 13 kg| NACIONAL GÁS BUTANO|\n",
            "|             N|            PA| 06.945.995/0002-20|AVENIDA GENERALIS...|       306|            null|         UMARIZAL|66055-240|    GLP|    01/12/2021|           118|           null|       R$ / 13 kg|SUPERGASBRAS ENERGIA|\n",
            "|             N|            PA| 04.976.718/0003-30|AVENIDA PEDRO ALV...|      3800|            null|       SACRAMENTA|66120-620|    GLP|    01/12/2021|           113|           null|       R$ / 13 kg|             BAHIANA|\n",
            "+--------------+--------------+-------------------+--------------------+----------+----------------+-----------------+---------+-------+--------------+--------------+---------------+-----------------+--------------------+\n",
            "only showing top 20 rows\n",
            "\n"
          ]
        }
      ]
    },
    {
      "cell_type": "markdown",
      "source": [
        "### **Useful Transformations for a Data Analyst**"
      ],
      "metadata": {
        "id": "iLNVUJx8_6Ab"
      }
    },
    {
      "cell_type": "code",
      "source": [
        "#checking the types of variables\n",
        "precogas.printSchema()"
      ],
      "metadata": {
        "id": "yoqvVjx1AC5i",
        "colab": {
          "base_uri": "https://localhost:8080/"
        },
        "outputId": "6572dc98-80d2-4004-a147-b287a52788a8"
      },
      "execution_count": null,
      "outputs": [
        {
          "output_type": "stream",
          "name": "stdout",
          "text": [
            "root\n",
            " |-- Regiao - Sigla: string (nullable = true)\n",
            " |-- Estado - Sigla: string (nullable = true)\n",
            " |-- Municipio: string (nullable = true)\n",
            " |-- Revenda: string (nullable = true)\n",
            " |-- CNPJ da Revenda: string (nullable = true)\n",
            " |-- Nome da Rua: string (nullable = true)\n",
            " |-- Numero Rua: string (nullable = true)\n",
            " |-- Complemento: string (nullable = true)\n",
            " |-- Bairro: string (nullable = true)\n",
            " |-- Cep: string (nullable = true)\n",
            " |-- Produto: string (nullable = true)\n",
            " |-- Data da Coleta: string (nullable = true)\n",
            " |-- Valor de Venda: string (nullable = true)\n",
            " |-- Valor de Compra: string (nullable = true)\n",
            " |-- Unidade de Medida: string (nullable = true)\n",
            " |-- Bandeira: string (nullable = true)\n",
            "\n"
          ]
        }
      ]
    },
    {
      "cell_type": "markdown",
      "source": [],
      "metadata": {
        "id": "IKz62CMJaSF1"
      }
    },
    {
      "cell_type": "markdown",
      "source": [
        "### **Fixing variable types of a SparkDataFrame**"
      ],
      "metadata": {
        "id": "Emc_PdwvYJ03"
      }
    },
    {
      "cell_type": "code",
      "source": [
        "#replacing '/' to '-' and changing the variable to date type\n",
        "precogas = precogas.withColumn(\n",
        "    colName = 'Data da Coleta', \n",
        "    col = to_date(\n",
        "            col = regexp_replace('Data da Coleta','/','-'),\n",
        "            format = \"dd-MM-yyyy\"\n",
        "          )\n",
        "    )\n",
        "\n",
        "#cheking the result\n",
        "precogas.select('Data da Coleta').printSchema()\n",
        "precogas.show()"
      ],
      "metadata": {
        "colab": {
          "base_uri": "https://localhost:8080/"
        },
        "id": "bp6vwhiQYZql",
        "outputId": "17c3fcba-5ff6-4c61-ec32-3aa9c0f50e54"
      },
      "execution_count": null,
      "outputs": [
        {
          "output_type": "stream",
          "name": "stdout",
          "text": [
            "root\n",
            " |-- Data da Coleta: date (nullable = true)\n",
            "\n",
            "+--------------+--------------+------------+--------------------+-------------------+--------------------+----------+----------------+-----------------+---------+-------+--------------+--------------+---------------+-----------------+--------------------+\n",
            "|Regiao - Sigla|Estado - Sigla|   Municipio|             Revenda|    CNPJ da Revenda|         Nome da Rua|Numero Rua|     Complemento|           Bairro|      Cep|Produto|Data da Coleta|Valor de Venda|Valor de Compra|Unidade de Medida|            Bandeira|\n",
            "+--------------+--------------+------------+--------------------+-------------------+--------------------+----------+----------------+-----------------+---------+-------+--------------+--------------+---------------+-----------------+--------------------+\n",
            "|            SE|            SP| SAO VICENTE|CONSIGAZ DISTRIBU...| 01.597.589/0003-81| RUA MANOEL DE ABREU|       790|      QUADRA 108|   CIDADE NAUTICA|11355-400|    GLP|    2021-12-01|         97,99|           null|       R$ / 13 kg|            CONSIGAZ|\n",
            "|             N|            AC|  RIO BRANCO|AUTO POSTO AMAPA ...| 00.529.581/0001-53|    VIA CHICO MENDES|      3570|            null|            AREAL|69906-119|    GLP|    2021-12-01|           115|           null|       R$ / 13 kg|               FOGAS|\n",
            "|             N|            AC|  RIO BRANCO|AUTO POSTO ACAUAN...| 00.524.999/0001-78|       RODOVIA AC 40|      1800|            null|        VILA ACRE|69902-450|    GLP|    2021-12-01|           110|           null|       R$ / 13 kg|           AMAZONGÁS|\n",
            "|             N|            AC|  RIO BRANCO|AUTO POSTO CANIND...| 05.442.544/0001-27|       RODOVIA AC 40|      3206|           KM 07|        VILA ACRE|69902-450|    GLP|    2021-12-01|           115|           null|       R$ / 13 kg|           AMAZONGÁS|\n",
            "|             N|            AC|  RIO BRANCO|AUTO POSTO AEROPO...| 14.294.227/0001-00|      V CHICO MENDES|      2583|            null|           COMARA|69906-326|    GLP|    2021-12-01|           115|           null|       R$ / 13 kg|           AMAZONGÁS|\n",
            "|            CO|            DF|    BRASILIA|SOUSA & ALVES COM...| 07.111.605/0001-07| QNM 15 LOTE G AR...|       S/N|            null|        CEILANDIA|72215-150|    GLP|    2021-12-01|         99,99|           null|       R$ / 13 kg|SUPERGASBRAS ENERGIA|\n",
            "|            CO|            DF|    BRASILIA|MARLIM COMBUSTIVE...| 04.494.011/0001-26|          QNO 06 PLL|       S/N|            null|        CEILÂNDIA|72237-100|    GLP|    2021-12-01|         98,99|           null|       R$ / 13 kg|            LIQUIGÁS|\n",
            "|            CO|            DF|    BRASILIA|AUTO SHOPPING DER...| 37.063.328/0009-14| QI 19 LOTES 02 E 04|       S/N|SETOR INDUSTRIAL|       TAGUATINGA|72120-190|    GLP|    2021-12-01|         98,99|           null|       R$ / 13 kg|            ULTRAGAZ|\n",
            "|            CO|            DF|    BRASILIA|LR COMERCIO DE PR...| 24.912.669/0001-18|              QNO 15|       S/N|        LOTE PLL|        CEILANDIA|72255-600|    GLP|    2021-12-01|         99,99|           null|       R$ / 13 kg|              BRANCA|\n",
            "|            CO|            DF|    BRASILIA|CASCOL COMBUSTIVE...| 00.306.597/0015-00|QUADRA QR 516 CON...|         1|            null|    SAMAMBAIA SUL|70772-500|    GLP|    2021-12-01|         99,99|           null|       R$ / 13 kg|            ULTRAGAZ|\n",
            "|            CO|            DF|    BRASILIA|CASCOL COMBUSTIVE...| 00.306.597/0017-64|   QUADRA QNO 05 PLL|       S/N|            null|        CEILANDIA|72251-000|    GLP|    2021-12-01|         99,99|           null|       R$ / 13 kg|            LIQUIGÁS|\n",
            "|            CO|            DF|    BRASILIA|CASCOL COMBUSTIVE...| 00.306.597/0008-73|   SETOR CSD 06 LOTE|        36|     SETOR D SUL|       TAGUATINGA|72020-000|    GLP|    2021-12-01|         97,99|           null|       R$ / 13 kg|            ULTRAGAZ|\n",
            "|            CO|            MS|CAMPO GRANDE|POSTO DOS PODERES...| 24.624.785/0001-31|    AVENIDA DO POETA|       990|            null| DO DESBARRANCADO|79031-350|    GLP|    2021-12-01|           100|           null|       R$ / 13 kg|SUPERGASBRAS ENERGIA|\n",
            "|            CO|            MS|CAMPO GRANDE|RIBEIRO DE MENDON...| 16.045.015/0001-06| AVENIDA AFONSO PENA|      5264|            null|CHACARA CACHOEIRA|79040-010|    GLP|    2021-12-01|           116|           null|       R$ / 13 kg|             COPAGAZ|\n",
            "|            CO|            MS|CAMPO GRANDE|AUTO POSTO MALIBU...| 02.110.486/0001-46|RUA JOSE NOGUEIRA...|      1310|            null|       TIRADENTES|79042-010|    GLP|    2021-12-01|         95,99|           null|       R$ / 13 kg|            LIQUIGÁS|\n",
            "|            CO|            MS|CAMPO GRANDE| POSTO ROUXINOL LTDA| 00.413.865/0001-80|    AVENIDA ROUXINOL|        35|            null|       TIRADENTES|79041-150|    GLP|    2021-12-01|            98|           null|       R$ / 13 kg|             COPAGAZ|\n",
            "|            CO|            MS|    DOURADOS|GABIATTI & GABIAT...| 04.075.654/0001-35|RUA CORONEL PONCIANO|      2230|            null|  VILA INDUSTRIAL|79840-230|    GLP|    2021-12-01|            95|           null|       R$ / 13 kg|            LIQUIGÁS|\n",
            "|             N|            PA|       BELEM|AUTO POSTO GK EIRELI| 07.909.407/0001-85|AVENIDA DUQUE DE ...|      1169|            null|            MARCO|66093-400|    GLP|    2021-12-01|           112|           null|       R$ / 13 kg| NACIONAL GÁS BUTANO|\n",
            "|             N|            PA|       BELEM|GP PETROLEO COMER...| 06.945.995/0002-20|AVENIDA GENERALIS...|       306|            null|         UMARIZAL|66055-240|    GLP|    2021-12-01|           118|           null|       R$ / 13 kg|SUPERGASBRAS ENERGIA|\n",
            "|             N|            PA|       BELEM|IRMAOS TEIXEIRA LTDA| 04.976.718/0003-30|AVENIDA PEDRO ALV...|      3800|            null|       SACRAMENTA|66120-620|    GLP|    2021-12-01|           113|           null|       R$ / 13 kg|             BAHIANA|\n",
            "+--------------+--------------+------------+--------------------+-------------------+--------------------+----------+----------------+-----------------+---------+-------+--------------+--------------+---------------+-----------------+--------------------+\n",
            "only showing top 20 rows\n",
            "\n"
          ]
        }
      ]
    },
    {
      "cell_type": "code",
      "source": [
        "#putting price by number\n",
        "precogas = precogas.withColumn(\n",
        "    colName = 'Valor de Venda', \n",
        "    col = regexp_replace('Valor de Venda',',','.').cast('float')\n",
        "    )\n",
        "\n",
        "#cheking the result\n",
        "precogas.select('Valor de Venda').printSchema()\n",
        "precogas.show()\n"
      ],
      "metadata": {
        "colab": {
          "base_uri": "https://localhost:8080/"
        },
        "id": "9ZrxG9kRZQM-",
        "outputId": "c28610f6-5f7d-48af-9bda-36b925b60147"
      },
      "execution_count": null,
      "outputs": [
        {
          "output_type": "stream",
          "name": "stdout",
          "text": [
            "root\n",
            " |-- Valor de Venda: float (nullable = true)\n",
            "\n",
            "+--------------+--------------+------------+--------------------+-------------------+--------------------+----------+----------------+-----------------+---------+-------+--------------+--------------+---------------+-----------------+--------------------+\n",
            "|Regiao - Sigla|Estado - Sigla|   Municipio|             Revenda|    CNPJ da Revenda|         Nome da Rua|Numero Rua|     Complemento|           Bairro|      Cep|Produto|Data da Coleta|Valor de Venda|Valor de Compra|Unidade de Medida|            Bandeira|\n",
            "+--------------+--------------+------------+--------------------+-------------------+--------------------+----------+----------------+-----------------+---------+-------+--------------+--------------+---------------+-----------------+--------------------+\n",
            "|            SE|            SP| SAO VICENTE|CONSIGAZ DISTRIBU...| 01.597.589/0003-81| RUA MANOEL DE ABREU|       790|      QUADRA 108|   CIDADE NAUTICA|11355-400|    GLP|    2021-12-01|         97.99|           null|       R$ / 13 kg|            CONSIGAZ|\n",
            "|             N|            AC|  RIO BRANCO|AUTO POSTO AMAPA ...| 00.529.581/0001-53|    VIA CHICO MENDES|      3570|            null|            AREAL|69906-119|    GLP|    2021-12-01|         115.0|           null|       R$ / 13 kg|               FOGAS|\n",
            "|             N|            AC|  RIO BRANCO|AUTO POSTO ACAUAN...| 00.524.999/0001-78|       RODOVIA AC 40|      1800|            null|        VILA ACRE|69902-450|    GLP|    2021-12-01|         110.0|           null|       R$ / 13 kg|           AMAZONGÁS|\n",
            "|             N|            AC|  RIO BRANCO|AUTO POSTO CANIND...| 05.442.544/0001-27|       RODOVIA AC 40|      3206|           KM 07|        VILA ACRE|69902-450|    GLP|    2021-12-01|         115.0|           null|       R$ / 13 kg|           AMAZONGÁS|\n",
            "|             N|            AC|  RIO BRANCO|AUTO POSTO AEROPO...| 14.294.227/0001-00|      V CHICO MENDES|      2583|            null|           COMARA|69906-326|    GLP|    2021-12-01|         115.0|           null|       R$ / 13 kg|           AMAZONGÁS|\n",
            "|            CO|            DF|    BRASILIA|SOUSA & ALVES COM...| 07.111.605/0001-07| QNM 15 LOTE G AR...|       S/N|            null|        CEILANDIA|72215-150|    GLP|    2021-12-01|         99.99|           null|       R$ / 13 kg|SUPERGASBRAS ENERGIA|\n",
            "|            CO|            DF|    BRASILIA|MARLIM COMBUSTIVE...| 04.494.011/0001-26|          QNO 06 PLL|       S/N|            null|        CEILÂNDIA|72237-100|    GLP|    2021-12-01|         98.99|           null|       R$ / 13 kg|            LIQUIGÁS|\n",
            "|            CO|            DF|    BRASILIA|AUTO SHOPPING DER...| 37.063.328/0009-14| QI 19 LOTES 02 E 04|       S/N|SETOR INDUSTRIAL|       TAGUATINGA|72120-190|    GLP|    2021-12-01|         98.99|           null|       R$ / 13 kg|            ULTRAGAZ|\n",
            "|            CO|            DF|    BRASILIA|LR COMERCIO DE PR...| 24.912.669/0001-18|              QNO 15|       S/N|        LOTE PLL|        CEILANDIA|72255-600|    GLP|    2021-12-01|         99.99|           null|       R$ / 13 kg|              BRANCA|\n",
            "|            CO|            DF|    BRASILIA|CASCOL COMBUSTIVE...| 00.306.597/0015-00|QUADRA QR 516 CON...|         1|            null|    SAMAMBAIA SUL|70772-500|    GLP|    2021-12-01|         99.99|           null|       R$ / 13 kg|            ULTRAGAZ|\n",
            "|            CO|            DF|    BRASILIA|CASCOL COMBUSTIVE...| 00.306.597/0017-64|   QUADRA QNO 05 PLL|       S/N|            null|        CEILANDIA|72251-000|    GLP|    2021-12-01|         99.99|           null|       R$ / 13 kg|            LIQUIGÁS|\n",
            "|            CO|            DF|    BRASILIA|CASCOL COMBUSTIVE...| 00.306.597/0008-73|   SETOR CSD 06 LOTE|        36|     SETOR D SUL|       TAGUATINGA|72020-000|    GLP|    2021-12-01|         97.99|           null|       R$ / 13 kg|            ULTRAGAZ|\n",
            "|            CO|            MS|CAMPO GRANDE|POSTO DOS PODERES...| 24.624.785/0001-31|    AVENIDA DO POETA|       990|            null| DO DESBARRANCADO|79031-350|    GLP|    2021-12-01|         100.0|           null|       R$ / 13 kg|SUPERGASBRAS ENERGIA|\n",
            "|            CO|            MS|CAMPO GRANDE|RIBEIRO DE MENDON...| 16.045.015/0001-06| AVENIDA AFONSO PENA|      5264|            null|CHACARA CACHOEIRA|79040-010|    GLP|    2021-12-01|         116.0|           null|       R$ / 13 kg|             COPAGAZ|\n",
            "|            CO|            MS|CAMPO GRANDE|AUTO POSTO MALIBU...| 02.110.486/0001-46|RUA JOSE NOGUEIRA...|      1310|            null|       TIRADENTES|79042-010|    GLP|    2021-12-01|         95.99|           null|       R$ / 13 kg|            LIQUIGÁS|\n",
            "|            CO|            MS|CAMPO GRANDE| POSTO ROUXINOL LTDA| 00.413.865/0001-80|    AVENIDA ROUXINOL|        35|            null|       TIRADENTES|79041-150|    GLP|    2021-12-01|          98.0|           null|       R$ / 13 kg|             COPAGAZ|\n",
            "|            CO|            MS|    DOURADOS|GABIATTI & GABIAT...| 04.075.654/0001-35|RUA CORONEL PONCIANO|      2230|            null|  VILA INDUSTRIAL|79840-230|    GLP|    2021-12-01|          95.0|           null|       R$ / 13 kg|            LIQUIGÁS|\n",
            "|             N|            PA|       BELEM|AUTO POSTO GK EIRELI| 07.909.407/0001-85|AVENIDA DUQUE DE ...|      1169|            null|            MARCO|66093-400|    GLP|    2021-12-01|         112.0|           null|       R$ / 13 kg| NACIONAL GÁS BUTANO|\n",
            "|             N|            PA|       BELEM|GP PETROLEO COMER...| 06.945.995/0002-20|AVENIDA GENERALIS...|       306|            null|         UMARIZAL|66055-240|    GLP|    2021-12-01|         118.0|           null|       R$ / 13 kg|SUPERGASBRAS ENERGIA|\n",
            "|             N|            PA|       BELEM|IRMAOS TEIXEIRA LTDA| 04.976.718/0003-30|AVENIDA PEDRO ALV...|      3800|            null|       SACRAMENTA|66120-620|    GLP|    2021-12-01|         113.0|           null|       R$ / 13 kg|             BAHIANA|\n",
            "+--------------+--------------+------------+--------------------+-------------------+--------------------+----------+----------------+-----------------+---------+-------+--------------+--------------+---------------+-----------------+--------------------+\n",
            "only showing top 20 rows\n",
            "\n"
          ]
        }
      ]
    },
    {
      "cell_type": "markdown",
      "source": [
        "### **Categorizing variables**"
      ],
      "metadata": {
        "id": "MY8bBhEsaSgL"
      }
    },
    {
      "cell_type": "code",
      "source": [
        "#doing a case\n",
        "precogas.withColumn(\n",
        "    colName = 'Faixa_Preco', \n",
        "    col = (\n",
        "        when(precogas['Valor de Venda']<100,' abaixo de R$100,00').\n",
        "        when(((precogas['Valor de Venda']>=100) & \n",
        "            (precogas['Valor de Venda']<110)),'de R$100 a R$109,99').\n",
        "       otherwise('R$110,00 ou mais')\n",
        "    )\n",
        "    ).show()"
      ],
      "metadata": {
        "id": "-gGyMux4amNx"
      },
      "execution_count": null,
      "outputs": []
    },
    {
      "cell_type": "code",
      "source": [
        "#creating a year attribute of a variable that contains date\n",
        "precogas.withColumn(\n",
        "    colName = 'Ano', \n",
        "    col = (precogas['Data da Coleta'].substr(0, 4)  )\n",
        "    ).show()"
      ],
      "metadata": {
        "colab": {
          "base_uri": "https://localhost:8080/"
        },
        "id": "bJBrWUdJbZ3O",
        "outputId": "ce1cc30f-620d-43a1-bd51-984d4dd2503e"
      },
      "execution_count": null,
      "outputs": [
        {
          "output_type": "stream",
          "name": "stdout",
          "text": [
            "+--------------+--------------+------------+--------------------+-------------------+--------------------+----------+----------------+-----------------+---------+-------+--------------+--------------+---------------+-----------------+--------------------+----+\n",
            "|Regiao - Sigla|Estado - Sigla|   Municipio|             Revenda|    CNPJ da Revenda|         Nome da Rua|Numero Rua|     Complemento|           Bairro|      Cep|Produto|Data da Coleta|Valor de Venda|Valor de Compra|Unidade de Medida|            Bandeira| Ano|\n",
            "+--------------+--------------+------------+--------------------+-------------------+--------------------+----------+----------------+-----------------+---------+-------+--------------+--------------+---------------+-----------------+--------------------+----+\n",
            "|            SE|            SP| SAO VICENTE|CONSIGAZ DISTRIBU...| 01.597.589/0003-81| RUA MANOEL DE ABREU|       790|      QUADRA 108|   CIDADE NAUTICA|11355-400|    GLP|    2021-12-01|         97.99|           null|       R$ / 13 kg|            CONSIGAZ|2021|\n",
            "|             N|            AC|  RIO BRANCO|AUTO POSTO AMAPA ...| 00.529.581/0001-53|    VIA CHICO MENDES|      3570|            null|            AREAL|69906-119|    GLP|    2021-12-01|         115.0|           null|       R$ / 13 kg|               FOGAS|2021|\n",
            "|             N|            AC|  RIO BRANCO|AUTO POSTO ACAUAN...| 00.524.999/0001-78|       RODOVIA AC 40|      1800|            null|        VILA ACRE|69902-450|    GLP|    2021-12-01|         110.0|           null|       R$ / 13 kg|           AMAZONGÁS|2021|\n",
            "|             N|            AC|  RIO BRANCO|AUTO POSTO CANIND...| 05.442.544/0001-27|       RODOVIA AC 40|      3206|           KM 07|        VILA ACRE|69902-450|    GLP|    2021-12-01|         115.0|           null|       R$ / 13 kg|           AMAZONGÁS|2021|\n",
            "|             N|            AC|  RIO BRANCO|AUTO POSTO AEROPO...| 14.294.227/0001-00|      V CHICO MENDES|      2583|            null|           COMARA|69906-326|    GLP|    2021-12-01|         115.0|           null|       R$ / 13 kg|           AMAZONGÁS|2021|\n",
            "|            CO|            DF|    BRASILIA|SOUSA & ALVES COM...| 07.111.605/0001-07| QNM 15 LOTE G AR...|       S/N|            null|        CEILANDIA|72215-150|    GLP|    2021-12-01|         99.99|           null|       R$ / 13 kg|SUPERGASBRAS ENERGIA|2021|\n",
            "|            CO|            DF|    BRASILIA|MARLIM COMBUSTIVE...| 04.494.011/0001-26|          QNO 06 PLL|       S/N|            null|        CEILÂNDIA|72237-100|    GLP|    2021-12-01|         98.99|           null|       R$ / 13 kg|            LIQUIGÁS|2021|\n",
            "|            CO|            DF|    BRASILIA|AUTO SHOPPING DER...| 37.063.328/0009-14| QI 19 LOTES 02 E 04|       S/N|SETOR INDUSTRIAL|       TAGUATINGA|72120-190|    GLP|    2021-12-01|         98.99|           null|       R$ / 13 kg|            ULTRAGAZ|2021|\n",
            "|            CO|            DF|    BRASILIA|LR COMERCIO DE PR...| 24.912.669/0001-18|              QNO 15|       S/N|        LOTE PLL|        CEILANDIA|72255-600|    GLP|    2021-12-01|         99.99|           null|       R$ / 13 kg|              BRANCA|2021|\n",
            "|            CO|            DF|    BRASILIA|CASCOL COMBUSTIVE...| 00.306.597/0015-00|QUADRA QR 516 CON...|         1|            null|    SAMAMBAIA SUL|70772-500|    GLP|    2021-12-01|         99.99|           null|       R$ / 13 kg|            ULTRAGAZ|2021|\n",
            "|            CO|            DF|    BRASILIA|CASCOL COMBUSTIVE...| 00.306.597/0017-64|   QUADRA QNO 05 PLL|       S/N|            null|        CEILANDIA|72251-000|    GLP|    2021-12-01|         99.99|           null|       R$ / 13 kg|            LIQUIGÁS|2021|\n",
            "|            CO|            DF|    BRASILIA|CASCOL COMBUSTIVE...| 00.306.597/0008-73|   SETOR CSD 06 LOTE|        36|     SETOR D SUL|       TAGUATINGA|72020-000|    GLP|    2021-12-01|         97.99|           null|       R$ / 13 kg|            ULTRAGAZ|2021|\n",
            "|            CO|            MS|CAMPO GRANDE|POSTO DOS PODERES...| 24.624.785/0001-31|    AVENIDA DO POETA|       990|            null| DO DESBARRANCADO|79031-350|    GLP|    2021-12-01|         100.0|           null|       R$ / 13 kg|SUPERGASBRAS ENERGIA|2021|\n",
            "|            CO|            MS|CAMPO GRANDE|RIBEIRO DE MENDON...| 16.045.015/0001-06| AVENIDA AFONSO PENA|      5264|            null|CHACARA CACHOEIRA|79040-010|    GLP|    2021-12-01|         116.0|           null|       R$ / 13 kg|             COPAGAZ|2021|\n",
            "|            CO|            MS|CAMPO GRANDE|AUTO POSTO MALIBU...| 02.110.486/0001-46|RUA JOSE NOGUEIRA...|      1310|            null|       TIRADENTES|79042-010|    GLP|    2021-12-01|         95.99|           null|       R$ / 13 kg|            LIQUIGÁS|2021|\n",
            "|            CO|            MS|CAMPO GRANDE| POSTO ROUXINOL LTDA| 00.413.865/0001-80|    AVENIDA ROUXINOL|        35|            null|       TIRADENTES|79041-150|    GLP|    2021-12-01|          98.0|           null|       R$ / 13 kg|             COPAGAZ|2021|\n",
            "|            CO|            MS|    DOURADOS|GABIATTI & GABIAT...| 04.075.654/0001-35|RUA CORONEL PONCIANO|      2230|            null|  VILA INDUSTRIAL|79840-230|    GLP|    2021-12-01|          95.0|           null|       R$ / 13 kg|            LIQUIGÁS|2021|\n",
            "|             N|            PA|       BELEM|AUTO POSTO GK EIRELI| 07.909.407/0001-85|AVENIDA DUQUE DE ...|      1169|            null|            MARCO|66093-400|    GLP|    2021-12-01|         112.0|           null|       R$ / 13 kg| NACIONAL GÁS BUTANO|2021|\n",
            "|             N|            PA|       BELEM|GP PETROLEO COMER...| 06.945.995/0002-20|AVENIDA GENERALIS...|       306|            null|         UMARIZAL|66055-240|    GLP|    2021-12-01|         118.0|           null|       R$ / 13 kg|SUPERGASBRAS ENERGIA|2021|\n",
            "|             N|            PA|       BELEM|IRMAOS TEIXEIRA LTDA| 04.976.718/0003-30|AVENIDA PEDRO ALV...|      3800|            null|       SACRAMENTA|66120-620|    GLP|    2021-12-01|         113.0|           null|       R$ / 13 kg|             BAHIANA|2021|\n",
            "+--------------+--------------+------------+--------------------+-------------------+--------------------+----------+----------------+-----------------+---------+-------+--------------+--------------+---------------+-----------------+--------------------+----+\n",
            "only showing top 20 rows\n",
            "\n"
          ]
        }
      ]
    },
    {
      "cell_type": "code",
      "source": [
        "#selecting only quotations made in the city of Salvador\n",
        "precogas.filter(precogas.Municipio == 'SALVADOR').show()"
      ],
      "metadata": {
        "colab": {
          "base_uri": "https://localhost:8080/"
        },
        "id": "z0i8mKBgdG3C",
        "outputId": "b7d58d1d-c272-4e4a-b56b-4f88b294a224"
      },
      "execution_count": null,
      "outputs": [
        {
          "output_type": "stream",
          "name": "stdout",
          "text": [
            "+--------------+--------------+---------+--------------------+-------------------+--------------------+----------+--------------------+--------------+---------+-------+--------------+--------------+---------------+-----------------+--------------------+\n",
            "|Regiao - Sigla|Estado - Sigla|Municipio|             Revenda|    CNPJ da Revenda|         Nome da Rua|Numero Rua|         Complemento|        Bairro|      Cep|Produto|Data da Coleta|Valor de Venda|Valor de Compra|Unidade de Medida|            Bandeira|\n",
            "+--------------+--------------+---------+--------------------+-------------------+--------------------+----------+--------------------+--------------+---------+-------+--------------+--------------+---------------+-----------------+--------------------+\n",
            "|            NE|            BA| SALVADOR|NADIR DE ALMEIDA ...| 04.997.975/0001-97|    RUA DOS JESUITAS|        10|   QUADRA 02 LOTE 98|    DOM AVELAR|41315-160|    GLP|    2021-12-01|          94.0|           null|       R$ / 13 kg|SUPERGASBRAS ENERGIA|\n",
            "|            NE|            BA| SALVADOR|PAU DA LIMA COMER...| 41.989.419/0001-03|    RUA ISMAR ARAUJO|       S/N|              GALPÃO|   PAU DA LIMA|41235-010|    GLP|    2021-12-01|         96.99|           null|       R$ / 13 kg|             BAHIANA|\n",
            "|            NE|            BA| SALVADOR|     BINHO GÁS LTDA.| 05.384.528/0001-25|    RUA DOS CARTUXOS|     S/N.º|  QUADRA 13, LOTE 11|    DOM AVELAR|41315-040|    GLP|    2021-12-01|          95.0|           null|       R$ / 13 kg|             BAHIANA|\n",
            "|            NE|            BA| SALVADOR|ÁGUAS CLARAS GÁS ...| 07.871.109/0001-43|    RUA JORGE BELLES|        14|                LOTE|  ÁGUAS CLARAS|41310-040|    GLP|    2021-12-01|         89.99|           null|       R$ / 13 kg|             BAHIANA|\n",
            "|            NE|            BA| SALVADOR|ANTONIO REBOUCAS ...| 04.129.917/0001-41|        RUA DO GRILO|       S/N|1 TRAVESSA       ...|    PERNAMBUES|41110-370|    GLP|    2021-12-01|         93.99|           null|       R$ / 13 kg|             BAHIANA|\n",
            "|            NE|            BA| SALVADOR|CRISPIM SOUZA COM...| 05.092.369/0001-95|RUA FILADELFO CAR...|       S/N|  LOT. JARDIM PIRAJÁ|  ÁGUAS CLARAS|41310-240|    GLP|    2021-12-01|         84.99|           null|       R$ / 13 kg|SUPERGASBRAS ENERGIA|\n",
            "|            NE|            BA| SALVADOR|GILVAN DAVI DO NA...| 08.081.251/0001-50|      RUA MARTACENIA|        39|              TERREO|  AGUAS CLARAS|41310-160|    GLP|    2021-12-01|          90.0|           null|       R$ / 13 kg|             BAHIANA|\n",
            "|            NE|            BA| SALVADOR|AMÂNCIA DE OLIVEI...| 12.807.757/0001-70|RUA   GENARO DE C...|       171|             LOJA 01|CASTELO BRANCO|41320-100|    GLP|    2021-12-01|         84.99|           null|       R$ / 13 kg|             BAHIANA|\n",
            "|            NE|            BA| SALVADOR|QUERO GÁS COMERCI...| 13.111.556/0001-05|   RUA   FRANK NALVA|        39|                null|  AGUAS CLARAS|41310-340|    GLP|    2021-12-01|          84.0|           null|       R$ / 13 kg|SUPERGASBRAS ENERGIA|\n",
            "|            NE|            BA| SALVADOR|PASSOS COMERCIO D...| 19.446.654/0001-71|       RUA  DA UNIAO|        25|                null|   MATA ESCURA|41225-100|    GLP|    2021-12-01|         100.0|           null|       R$ / 13 kg|             BAHIANA|\n",
            "|            NE|            BA| SALVADOR|ELVIS DAVI SILVA ...| 19.713.208/0001-86|RUA   BARTOLOMEU ...|        74|                null|    DOM AVELAR|41315-110|    GLP|    2021-12-01|          95.0|           null|       R$ / 13 kg|             BAHIANA|\n",
            "|            NE|            BA| SALVADOR|VILA COMERCIO DE ...| 21.097.458/0001-80|RUA DOUTOR ANTONI...|        SN|            TERREOGL|  VILA CANARIA|41390-090|    GLP|    2021-12-01|         94.99|           null|       R$ / 13 kg|             BAHIANA|\n",
            "|            NE|            BA| SALVADOR|SANTOS & VIEIRA C...| 23.790.048/0001-46| RUA FILHAS DE MARIA|       S/N|            DEPOSITO|    DOM AVELAR|41315-032|    GLP|    2021-12-01|          90.0|           null|       R$ / 13 kg|   NGC DISTRIBUIDORA|\n",
            "|            NE|            BA| SALVADOR|ERICA BARBOSA LISBOA| 15.327.280/0001-14|    RUA SANTA VERUSA|        68|                null|    PERNAMBUES|41120-000|    GLP|    2021-12-01|          82.0|           null|       R$ / 13 kg|             BAHIANA|\n",
            "|            NE|            BA| SALVADOR|BIJU GAS EIRELI - ME| 27.285.060/0001-54|RUA   FERNANDO DE...|         3|                  LJ|    PERNAMBUÉS|41100-200|    GLP|    2021-12-01|         94.99|           null|       R$ / 13 kg|             BAHIANA|\n",
            "|            NE|            BA| SALVADOR|VC COMERCIO VAREJ...| 31.432.473/0001-91|RUA JACOB DE CARV...|         6|                null|  AGUAS CLARAS|41310-320|    GLP|    2021-12-01|          85.0|           null|       R$ / 13 kg|            LIQUIGÁS|\n",
            "|            NE|            BA| SALVADOR|PONTUALGAS REVEND...| 33.372.239/0001-41|RUA NUMA POMPILIO...|        13|                null|    PERNAMBUES|41100-170|    GLP|    2021-12-01|         93.99|           null|       R$ / 13 kg|SUPERGASBRAS ENERGIA|\n",
            "|            NE|            BA| SALVADOR|GASMETROPOLI COME...| 33.711.973/0001-98|      RUA GUARATINGA|        23|  QUADRA IX LOTE 023|    PERNAMBUES|41100-040|    GLP|    2021-12-01|          87.0|           null|       R$ / 13 kg|SUPERGASBRAS ENERGIA|\n",
            "|            NE|            BA| SALVADOR|  GUSTAVO GAS EIRELI| 34.209.925/0001-69|  RUA THOMAZ GONZAGA|       479|              GALPAO|    PERNAMBUES|41130-000|    GLP|    2021-12-01|         89.99|           null|       R$ / 13 kg| NACIONAL GÁS BUTANO|\n",
            "|            NE|            BA| SALVADOR|F & K GAS COMERCI...| 34.177.630/0001-58|   RUA DOS APOSTOLOS|       S/N| QUADRA 023 LOTE 011|    DOM AVELAR|41315-350|    GLP|    2021-12-01|          95.0|           null|       R$ / 13 kg|             BAHIANA|\n",
            "+--------------+--------------+---------+--------------------+-------------------+--------------------+----------+--------------------+--------------+---------+-------+--------------+--------------+---------------+-----------------+--------------------+\n",
            "only showing top 20 rows\n",
            "\n"
          ]
        }
      ]
    },
    {
      "cell_type": "code",
      "source": [
        "#selecting only quotations made in Acre or Bahia\n",
        "precogas.filter(\n",
        "    (precogas['Estado - Sigla'] == 'AC') | \n",
        "    (precogas['Estado - Sigla'] == 'BA')\n",
        "    ).show()"
      ],
      "metadata": {
        "colab": {
          "base_uri": "https://localhost:8080/"
        },
        "id": "FOxaMJFedbkD",
        "outputId": "ab5a44a8-73bb-458a-fdbd-e613b7733b5c"
      },
      "execution_count": null,
      "outputs": [
        {
          "output_type": "stream",
          "name": "stdout",
          "text": [
            "+--------------+--------------+------------+--------------------+-------------------+--------------------+----------+--------------------+----------------+---------+-------+--------------+--------------+---------------+-----------------+--------------------+\n",
            "|Regiao - Sigla|Estado - Sigla|   Municipio|             Revenda|    CNPJ da Revenda|         Nome da Rua|Numero Rua|         Complemento|          Bairro|      Cep|Produto|Data da Coleta|Valor de Venda|Valor de Compra|Unidade de Medida|            Bandeira|\n",
            "+--------------+--------------+------------+--------------------+-------------------+--------------------+----------+--------------------+----------------+---------+-------+--------------+--------------+---------------+-----------------+--------------------+\n",
            "|             N|            AC|  RIO BRANCO|AUTO POSTO AMAPA ...| 00.529.581/0001-53|    VIA CHICO MENDES|      3570|                null|           AREAL|69906-119|    GLP|    2021-12-01|         115.0|           null|       R$ / 13 kg|               FOGAS|\n",
            "|             N|            AC|  RIO BRANCO|AUTO POSTO ACAUAN...| 00.524.999/0001-78|       RODOVIA AC 40|      1800|                null|       VILA ACRE|69902-450|    GLP|    2021-12-01|         110.0|           null|       R$ / 13 kg|           AMAZONGÁS|\n",
            "|             N|            AC|  RIO BRANCO|AUTO POSTO CANIND...| 05.442.544/0001-27|       RODOVIA AC 40|      3206|               KM 07|       VILA ACRE|69902-450|    GLP|    2021-12-01|         115.0|           null|       R$ / 13 kg|           AMAZONGÁS|\n",
            "|             N|            AC|  RIO BRANCO|AUTO POSTO AEROPO...| 14.294.227/0001-00|      V CHICO MENDES|      2583|                null|          COMARA|69906-326|    GLP|    2021-12-01|         115.0|           null|       R$ / 13 kg|           AMAZONGÁS|\n",
            "|            NE|            BA|    SALVADOR|NADIR DE ALMEIDA ...| 04.997.975/0001-97|    RUA DOS JESUITAS|        10|   QUADRA 02 LOTE 98|      DOM AVELAR|41315-160|    GLP|    2021-12-01|          94.0|           null|       R$ / 13 kg|SUPERGASBRAS ENERGIA|\n",
            "|            NE|            BA|    SALVADOR|PAU DA LIMA COMER...| 41.989.419/0001-03|    RUA ISMAR ARAUJO|       S/N|              GALPÃO|     PAU DA LIMA|41235-010|    GLP|    2021-12-01|         96.99|           null|       R$ / 13 kg|             BAHIANA|\n",
            "|            NE|            BA|    SALVADOR|     BINHO GÁS LTDA.| 05.384.528/0001-25|    RUA DOS CARTUXOS|     S/N.º|  QUADRA 13, LOTE 11|      DOM AVELAR|41315-040|    GLP|    2021-12-01|          95.0|           null|       R$ / 13 kg|             BAHIANA|\n",
            "|            NE|            BA|      ILHEUS|GMS DISTRIBUIDORA...| 08.240.096/0001-77|    AVENIDA UBAITABA|       639|                null|       ESPERANCA|45658-800|    GLP|    2021-12-01|         110.0|           null|       R$ / 13 kg| NACIONAL GÁS BUTANO|\n",
            "|            NE|            BA|    SALVADOR|ÁGUAS CLARAS GÁS ...| 07.871.109/0001-43|    RUA JORGE BELLES|        14|                LOTE|    ÁGUAS CLARAS|41310-040|    GLP|    2021-12-01|         89.99|           null|       R$ / 13 kg|             BAHIANA|\n",
            "|            NE|            BA|    SALVADOR|ANTONIO REBOUCAS ...| 04.129.917/0001-41|        RUA DO GRILO|       S/N|1 TRAVESSA       ...|      PERNAMBUES|41110-370|    GLP|    2021-12-01|         93.99|           null|       R$ / 13 kg|             BAHIANA|\n",
            "|            NE|            BA|PAULO AFONSO|COMERCIAL DE ESTI...| 86.784.006/0002-01|AVENIDA PERIMETRAL 1|       189|                null|PERPETUO SOCORRO|48603-200|    GLP|    2021-12-01|          98.0|           null|       R$ / 13 kg|SUPERGASBRAS ENERGIA|\n",
            "|            NE|            BA|    SALVADOR|CRISPIM SOUZA COM...| 05.092.369/0001-95|RUA FILADELFO CAR...|       S/N|  LOT. JARDIM PIRAJÁ|    ÁGUAS CLARAS|41310-240|    GLP|    2021-12-01|         84.99|           null|       R$ / 13 kg|SUPERGASBRAS ENERGIA|\n",
            "|            NE|            BA|    SALVADOR|GILVAN DAVI DO NA...| 08.081.251/0001-50|      RUA MARTACENIA|        39|              TERREO|    AGUAS CLARAS|41310-160|    GLP|    2021-12-01|          90.0|           null|       R$ / 13 kg|             BAHIANA|\n",
            "|            NE|            BA|     ITABUNA|NETO SANTOS COMER...| 10.907.254/0001-41|  RUA SAO  SEBASTIAO|       307|                   B|          FATIMA|45603-451|    GLP|    2021-12-01|         100.0|           null|       R$ / 13 kg|             BAHIANA|\n",
            "|            NE|            BA|    SALVADOR|AMÂNCIA DE OLIVEI...| 12.807.757/0001-70|RUA   GENARO DE C...|       171|             LOJA 01|  CASTELO BRANCO|41320-100|    GLP|    2021-12-01|         84.99|           null|       R$ / 13 kg|             BAHIANA|\n",
            "|            NE|            BA|    SALVADOR|QUERO GÁS COMERCI...| 13.111.556/0001-05|   RUA   FRANK NALVA|        39|                null|    AGUAS CLARAS|41310-340|    GLP|    2021-12-01|          84.0|           null|       R$ / 13 kg|SUPERGASBRAS ENERGIA|\n",
            "|            NE|            BA|      ILHEUS|FERNANDES MOREIRA...| 12.997.269/0001-73|    RUA   URUGUAIANA|       530|                   A|         MALHADO|45651-350|    GLP|    2021-12-01|         102.0|           null|       R$ / 13 kg|             BAHIANA|\n",
            "|            NE|            BA|    SALVADOR|PASSOS COMERCIO D...| 19.446.654/0001-71|       RUA  DA UNIAO|        25|                null|     MATA ESCURA|41225-100|    GLP|    2021-12-01|         100.0|           null|       R$ / 13 kg|             BAHIANA|\n",
            "|            NE|            BA|    SALVADOR|ELVIS DAVI SILVA ...| 19.713.208/0001-86|RUA   BARTOLOMEU ...|        74|                null|      DOM AVELAR|41315-110|    GLP|    2021-12-01|          95.0|           null|       R$ / 13 kg|             BAHIANA|\n",
            "|            NE|            BA|    SALVADOR|VILA COMERCIO DE ...| 21.097.458/0001-80|RUA DOUTOR ANTONI...|        SN|            TERREOGL|    VILA CANARIA|41390-090|    GLP|    2021-12-01|         94.99|           null|       R$ / 13 kg|             BAHIANA|\n",
            "+--------------+--------------+------------+--------------------+-------------------+--------------------+----------+--------------------+----------------+---------+-------+--------------+--------------+---------------+-----------------+--------------------+\n",
            "only showing top 20 rows\n",
            "\n"
          ]
        }
      ]
    },
    {
      "cell_type": "code",
      "source": [
        "#selecting only quotations made in São Paulo by day 10/12/2022\n",
        "precogas.filter(\n",
        "    (col('Estado - Sigla') == 'SP') & \n",
        "    (col('Data da Coleta') == '10/12/2022')\n",
        "    ).show()"
      ],
      "metadata": {
        "colab": {
          "base_uri": "https://localhost:8080/"
        },
        "id": "Y6V6uCRXdoY3",
        "outputId": "980886e1-6e19-4f0f-815a-7899b90b2dc9"
      },
      "execution_count": null,
      "outputs": [
        {
          "output_type": "stream",
          "name": "stdout",
          "text": [
            "+--------------+--------------+---------+-------+---------------+-----------+----------+-----------+------+---+-------+--------------+--------------+---------------+-----------------+--------+\n",
            "|Regiao - Sigla|Estado - Sigla|Municipio|Revenda|CNPJ da Revenda|Nome da Rua|Numero Rua|Complemento|Bairro|Cep|Produto|Data da Coleta|Valor de Venda|Valor de Compra|Unidade de Medida|Bandeira|\n",
            "+--------------+--------------+---------+-------+---------------+-----------+----------+-----------+------+---+-------+--------------+--------------+---------------+-----------------+--------+\n",
            "+--------------+--------------+---------+-------+---------------+-----------+----------+-----------+------+---+-------+--------------+--------------+---------------+-----------------+--------+\n",
            "\n"
          ]
        }
      ]
    },
    {
      "cell_type": "code",
      "source": [
        "#selecting only quotations made in BA with price below R$80\n",
        "precogas.filter(\n",
        "    (precogas['Estado - Sigla'] == 'BA') & \n",
        "    (precogas['Valor de Venda'] >120)\n",
        "    ).show()"
      ],
      "metadata": {
        "id": "WUlumOwYkoK3"
      },
      "execution_count": null,
      "outputs": []
    },
    {
      "cell_type": "code",
      "source": [
        "#selecting rows with 'where'\n",
        "precogas.where(\n",
        "    (col('Estado - Sigla') == 'BA') & \n",
        "    (col('Valor de Venda') < 85)\n",
        "    ).show()"
      ],
      "metadata": {
        "id": "MUB12HD3k8RP"
      },
      "execution_count": null,
      "outputs": []
    },
    {
      "cell_type": "markdown",
      "source": [
        "### **Summary measures of numeric variables from a SparkDataFrame**"
      ],
      "metadata": {
        "id": "-jAWcDo3lf4T"
      }
    },
    {
      "cell_type": "code",
      "source": [
        "#summarizing numeric variables\n",
        "precogas.select('Valor de Venda').describe().show()"
      ],
      "metadata": {
        "colab": {
          "base_uri": "https://localhost:8080/"
        },
        "id": "KIuop-d6l0AB",
        "outputId": "e07cdc1e-9d7e-44c3-9fbd-c4b90a338a79"
      },
      "execution_count": null,
      "outputs": [
        {
          "output_type": "stream",
          "name": "stdout",
          "text": [
            "+-------+------------------+\n",
            "|summary|    Valor de Venda|\n",
            "+-------+------------------+\n",
            "|  count|             15765|\n",
            "|   mean|103.29313201371957|\n",
            "| stddev| 8.951108633678142|\n",
            "|    min|             77.99|\n",
            "|    max|             140.0|\n",
            "+-------+------------------+\n",
            "\n"
          ]
        }
      ]
    },
    {
      "cell_type": "code",
      "source": [
        "#summarizing numeric variables with summary\n",
        "precogas.select('Valor de Venda').summary().show()"
      ],
      "metadata": {
        "colab": {
          "base_uri": "https://localhost:8080/"
        },
        "id": "OQ3fi5HamFhy",
        "outputId": "bc96d4f3-89f9-437c-985b-b36f3aeeb174"
      },
      "execution_count": null,
      "outputs": [
        {
          "output_type": "stream",
          "name": "stdout",
          "text": [
            "+-------+------------------+\n",
            "|summary|    Valor de Venda|\n",
            "+-------+------------------+\n",
            "|  count|             15765|\n",
            "|   mean|103.29313201371957|\n",
            "| stddev| 8.951108633678142|\n",
            "|    min|             77.99|\n",
            "|    25%|             97.99|\n",
            "|    50%|             102.0|\n",
            "|    75%|             110.0|\n",
            "|    max|             140.0|\n",
            "+-------+------------------+\n",
            "\n"
          ]
        }
      ]
    },
    {
      "cell_type": "code",
      "source": [
        "#summarizing numeric variables with summary limiting the statistics\n",
        "precogas.select('Valor de Venda')\\\n",
        ".summary(\"min\", \"5%\",\"25%\", \"50%\",\"75%\", \"95%\",\"max\")\\\n",
        ".show()"
      ],
      "metadata": {
        "id": "O3yTvj-GmRb9"
      },
      "execution_count": null,
      "outputs": []
    },
    {
      "cell_type": "code",
      "source": [
        "#some individual stats\n",
        "precogas.select(\n",
        "  mean('Valor de Venda').alias('Preço médio'),\n",
        "  percentile_approx('Valor de Venda',0.5).alias('Preço Mediano'),\n",
        "  percentile_approx('Valor de Venda',0.25).alias('Q1 do Preço'),\n",
        "  percentile_approx('Valor de Venda',0.75).alias('Q3 do Preço'),\n",
        "  min('Valor de Venda').alias('Preço Mínimo'),\n",
        "  max('Valor de Venda').alias('Preço Máximo')\n",
        ").show()"
      ],
      "metadata": {
        "id": "J-Y74BsrmcuU"
      },
      "execution_count": null,
      "outputs": []
    },
    {
      "cell_type": "markdown",
      "source": [
        "### **Frequency Tables in PySpark**"
      ],
      "metadata": {
        "id": "DeRyJZOrmt9b"
      }
    },
    {
      "cell_type": "code",
      "source": [
        "#checking how many quotations were made by region of Brazil\n",
        "precogas.groupBy('Regiao - Sigla').count().orderBy(col(\"count\").desc()).show()"
      ],
      "metadata": {
        "colab": {
          "base_uri": "https://localhost:8080/"
        },
        "id": "FYLEeUr4m2WM",
        "outputId": "609bc99d-b257-498a-d0b6-e31f6e40b484"
      },
      "execution_count": null,
      "outputs": [
        {
          "output_type": "stream",
          "name": "stdout",
          "text": [
            "+--------------+-----+\n",
            "|Regiao - Sigla|count|\n",
            "+--------------+-----+\n",
            "|            SE| 6905|\n",
            "|             S| 3037|\n",
            "|            NE| 2621|\n",
            "|            CO| 1718|\n",
            "|             N| 1484|\n",
            "+--------------+-----+\n",
            "\n"
          ]
        }
      ]
    },
    {
      "cell_type": "code",
      "source": [
        "#quotations by state crossed by regions of Brazil\n",
        "precogas.crosstab('Estado - Sigla', 'Regiao - Sigla').show()"
      ],
      "metadata": {
        "colab": {
          "base_uri": "https://localhost:8080/"
        },
        "id": "WGxAh6i6nE4l",
        "outputId": "fabb7743-0981-46f1-9fdd-9fef4b475ad6"
      },
      "execution_count": null,
      "outputs": [
        {
          "output_type": "stream",
          "name": "stdout",
          "text": [
            "+-----------------------------+---+---+---+----+----+\n",
            "|Estado - Sigla_Regiao - Sigla| CO|  N| NE|   S|  SE|\n",
            "+-----------------------------+---+---+---+----+----+\n",
            "|                           MA|  0|  0|144|   0|   0|\n",
            "|                           GO|663|  0|  0|   0|   0|\n",
            "|                           CE|  0|  0|573|   0|   0|\n",
            "|                           AC|  0|114|  0|   0|   0|\n",
            "|                           PR|  0|  0|  0|1317|   0|\n",
            "|                           DF|210|  0|  0|   0|   0|\n",
            "|                           ES|  0|  0|  0|   0| 399|\n",
            "|                           RJ|  0|  0|  0|   0| 808|\n",
            "|                           RO|  0|178|  0|   0|   0|\n",
            "|                           SP|  0|  0|  0|   0|3996|\n",
            "|                           PB|  0|  0|223|   0|   0|\n",
            "|                           SE|  0|  0| 89|   0|   0|\n",
            "|                           RR|  0| 97|  0|   0|   0|\n",
            "|                           RS|  0|  0|  0|1469|   0|\n",
            "|                           BA|  0|  0|558|   0|   0|\n",
            "|                           PI|  0|  0|137|   0|   0|\n",
            "|                           RN|  0|  0|158|   0|   0|\n",
            "|                           MT|408|  0|  0|   0|   0|\n",
            "|                           AM|  0|171|  0|   0|   0|\n",
            "|                           PA|  0|564|  0|   0|   0|\n",
            "+-----------------------------+---+---+---+----+----+\n",
            "only showing top 20 rows\n",
            "\n"
          ]
        }
      ]
    },
    {
      "cell_type": "code",
      "source": [
        "#cheking the average price by region of Brazil\n",
        "precogas.groupBy('Regiao - Sigla').mean('Valor de Venda').show()"
      ],
      "metadata": {
        "colab": {
          "base_uri": "https://localhost:8080/"
        },
        "id": "VxnNScZEnevO",
        "outputId": "cb67fa56-344a-4786-b07f-321ef3278dd7"
      },
      "execution_count": null,
      "outputs": [
        {
          "output_type": "stream",
          "name": "stdout",
          "text": [
            "+--------------+-------------------+\n",
            "|Regiao - Sigla|avg(Valor de Venda)|\n",
            "+--------------+-------------------+\n",
            "|            NE|   99.8615030072564|\n",
            "|             N| 111.42243928729363|\n",
            "|             S|  104.3858051268647|\n",
            "|            SE| 101.12792719040635|\n",
            "|            CO|  108.2772406821201|\n",
            "+--------------+-------------------+\n",
            "\n"
          ]
        }
      ]
    },
    {
      "cell_type": "code",
      "source": [
        "#cheking the average price by region of Brazil\n",
        "precogas.groupBy('Estado - Sigla').min('Valor de Venda').show(27)"
      ],
      "metadata": {
        "colab": {
          "base_uri": "https://localhost:8080/"
        },
        "id": "iUPQgQj4nq4C",
        "outputId": "916f3e19-ef9b-42b8-bbb3-bdf12849eb43"
      },
      "execution_count": null,
      "outputs": [
        {
          "output_type": "stream",
          "name": "stdout",
          "text": [
            "+--------------+-------------------+\n",
            "|Estado - Sigla|min(Valor de Venda)|\n",
            "+--------------+-------------------+\n",
            "|            SC|              95.99|\n",
            "|            RO|              100.0|\n",
            "|            PI|              99.99|\n",
            "|            AM|               97.0|\n",
            "|            RR|              105.0|\n",
            "|            GO|              89.49|\n",
            "|            TO|              94.99|\n",
            "|            MT|              84.99|\n",
            "|            SP|              79.99|\n",
            "|            PB|              89.99|\n",
            "|            ES|              79.99|\n",
            "|            RS|               85.0|\n",
            "|            MS|               89.0|\n",
            "|            AL|              86.99|\n",
            "|            MG|               84.9|\n",
            "|            PA|               87.0|\n",
            "|            BA|              77.99|\n",
            "|            SE|               90.0|\n",
            "|            PE|              79.99|\n",
            "|            CE|               88.0|\n",
            "|            RN|               96.0|\n",
            "|            RJ|               78.0|\n",
            "|            MA|               95.0|\n",
            "|            AC|              110.0|\n",
            "|            DF|              89.99|\n",
            "|            PR|               81.9|\n",
            "|            AP|              110.0|\n",
            "+--------------+-------------------+\n",
            "\n"
          ]
        }
      ]
    },
    {
      "cell_type": "markdown",
      "source": [
        "### **Converting SparkDataFrame to PandasDataFrame**"
      ],
      "metadata": {
        "id": "7krOYa84n8lY"
      }
    },
    {
      "cell_type": "code",
      "source": [
        "#cheking the average price by region of Brazil\n",
        "preco_por_regiao = precogas.groupBy('Regiao - Sigla').mean('Valor de Venda')\n",
        "\n",
        "#Checking the resulting object type\n",
        "print(type(preco_por_regiao))"
      ],
      "metadata": {
        "colab": {
          "base_uri": "https://localhost:8080/"
        },
        "id": "DSN2JnNmoK_E",
        "outputId": "d79f6aef-9284-4ad2-a564-5c8780a9a869"
      },
      "execution_count": null,
      "outputs": [
        {
          "output_type": "stream",
          "name": "stdout",
          "text": [
            "<class 'pyspark.sql.dataframe.DataFrame'>\n"
          ]
        }
      ]
    },
    {
      "cell_type": "markdown",
      "source": [
        "The SparkDataframe has no methods associated with it for graphing. Therefore, one strategy is to turn the result into a pandasDataFrame and use the features of the graphics libraries, including Pandas' own graphics methods."
      ],
      "metadata": {
        "id": "ZiG8__iNo0ky"
      }
    },
    {
      "cell_type": "code",
      "source": [
        "#cheking the average price by region of Brazil\n",
        "preco_por_regiao_pd = precogas.groupBy('Regiao - Sigla').mean('Valor de Venda').toPandas()\n",
        "\n",
        "#checking the resulting object type\n",
        "print(type(preco_por_regiao_pd))\n",
        "preco_por_regiao_pd"
      ],
      "metadata": {
        "colab": {
          "base_uri": "https://localhost:8080/",
          "height": 224
        },
        "id": "ejvsmGFvo2P8",
        "outputId": "d2d0f905-b14d-40f5-cc92-f1358fd93055"
      },
      "execution_count": null,
      "outputs": [
        {
          "output_type": "stream",
          "name": "stdout",
          "text": [
            "<class 'pandas.core.frame.DataFrame'>\n"
          ]
        },
        {
          "output_type": "execute_result",
          "data": {
            "text/plain": [
              "  Regiao - Sigla  avg(Valor de Venda)\n",
              "0             NE            99.861503\n",
              "1              N           111.422439\n",
              "2              S           104.385805\n",
              "3             SE           101.127927\n",
              "4             CO           108.277241"
            ],
            "text/html": [
              "\n",
              "  <div id=\"df-cbd3af8e-6df6-4a1e-b01b-b8d2590f579d\">\n",
              "    <div class=\"colab-df-container\">\n",
              "      <div>\n",
              "<style scoped>\n",
              "    .dataframe tbody tr th:only-of-type {\n",
              "        vertical-align: middle;\n",
              "    }\n",
              "\n",
              "    .dataframe tbody tr th {\n",
              "        vertical-align: top;\n",
              "    }\n",
              "\n",
              "    .dataframe thead th {\n",
              "        text-align: right;\n",
              "    }\n",
              "</style>\n",
              "<table border=\"1\" class=\"dataframe\">\n",
              "  <thead>\n",
              "    <tr style=\"text-align: right;\">\n",
              "      <th></th>\n",
              "      <th>Regiao - Sigla</th>\n",
              "      <th>avg(Valor de Venda)</th>\n",
              "    </tr>\n",
              "  </thead>\n",
              "  <tbody>\n",
              "    <tr>\n",
              "      <th>0</th>\n",
              "      <td>NE</td>\n",
              "      <td>99.861503</td>\n",
              "    </tr>\n",
              "    <tr>\n",
              "      <th>1</th>\n",
              "      <td>N</td>\n",
              "      <td>111.422439</td>\n",
              "    </tr>\n",
              "    <tr>\n",
              "      <th>2</th>\n",
              "      <td>S</td>\n",
              "      <td>104.385805</td>\n",
              "    </tr>\n",
              "    <tr>\n",
              "      <th>3</th>\n",
              "      <td>SE</td>\n",
              "      <td>101.127927</td>\n",
              "    </tr>\n",
              "    <tr>\n",
              "      <th>4</th>\n",
              "      <td>CO</td>\n",
              "      <td>108.277241</td>\n",
              "    </tr>\n",
              "  </tbody>\n",
              "</table>\n",
              "</div>\n",
              "      <button class=\"colab-df-convert\" onclick=\"convertToInteractive('df-cbd3af8e-6df6-4a1e-b01b-b8d2590f579d')\"\n",
              "              title=\"Convert this dataframe to an interactive table.\"\n",
              "              style=\"display:none;\">\n",
              "        \n",
              "  <svg xmlns=\"http://www.w3.org/2000/svg\" height=\"24px\"viewBox=\"0 0 24 24\"\n",
              "       width=\"24px\">\n",
              "    <path d=\"M0 0h24v24H0V0z\" fill=\"none\"/>\n",
              "    <path d=\"M18.56 5.44l.94 2.06.94-2.06 2.06-.94-2.06-.94-.94-2.06-.94 2.06-2.06.94zm-11 1L8.5 8.5l.94-2.06 2.06-.94-2.06-.94L8.5 2.5l-.94 2.06-2.06.94zm10 10l.94 2.06.94-2.06 2.06-.94-2.06-.94-.94-2.06-.94 2.06-2.06.94z\"/><path d=\"M17.41 7.96l-1.37-1.37c-.4-.4-.92-.59-1.43-.59-.52 0-1.04.2-1.43.59L10.3 9.45l-7.72 7.72c-.78.78-.78 2.05 0 2.83L4 21.41c.39.39.9.59 1.41.59.51 0 1.02-.2 1.41-.59l7.78-7.78 2.81-2.81c.8-.78.8-2.07 0-2.86zM5.41 20L4 18.59l7.72-7.72 1.47 1.35L5.41 20z\"/>\n",
              "  </svg>\n",
              "      </button>\n",
              "      \n",
              "  <style>\n",
              "    .colab-df-container {\n",
              "      display:flex;\n",
              "      flex-wrap:wrap;\n",
              "      gap: 12px;\n",
              "    }\n",
              "\n",
              "    .colab-df-convert {\n",
              "      background-color: #E8F0FE;\n",
              "      border: none;\n",
              "      border-radius: 50%;\n",
              "      cursor: pointer;\n",
              "      display: none;\n",
              "      fill: #1967D2;\n",
              "      height: 32px;\n",
              "      padding: 0 0 0 0;\n",
              "      width: 32px;\n",
              "    }\n",
              "\n",
              "    .colab-df-convert:hover {\n",
              "      background-color: #E2EBFA;\n",
              "      box-shadow: 0px 1px 2px rgba(60, 64, 67, 0.3), 0px 1px 3px 1px rgba(60, 64, 67, 0.15);\n",
              "      fill: #174EA6;\n",
              "    }\n",
              "\n",
              "    [theme=dark] .colab-df-convert {\n",
              "      background-color: #3B4455;\n",
              "      fill: #D2E3FC;\n",
              "    }\n",
              "\n",
              "    [theme=dark] .colab-df-convert:hover {\n",
              "      background-color: #434B5C;\n",
              "      box-shadow: 0px 1px 3px 1px rgba(0, 0, 0, 0.15);\n",
              "      filter: drop-shadow(0px 1px 2px rgba(0, 0, 0, 0.3));\n",
              "      fill: #FFFFFF;\n",
              "    }\n",
              "  </style>\n",
              "\n",
              "      <script>\n",
              "        const buttonEl =\n",
              "          document.querySelector('#df-cbd3af8e-6df6-4a1e-b01b-b8d2590f579d button.colab-df-convert');\n",
              "        buttonEl.style.display =\n",
              "          google.colab.kernel.accessAllowed ? 'block' : 'none';\n",
              "\n",
              "        async function convertToInteractive(key) {\n",
              "          const element = document.querySelector('#df-cbd3af8e-6df6-4a1e-b01b-b8d2590f579d');\n",
              "          const dataTable =\n",
              "            await google.colab.kernel.invokeFunction('convertToInteractive',\n",
              "                                                     [key], {});\n",
              "          if (!dataTable) return;\n",
              "\n",
              "          const docLinkHtml = 'Like what you see? Visit the ' +\n",
              "            '<a target=\"_blank\" href=https://colab.research.google.com/notebooks/data_table.ipynb>data table notebook</a>'\n",
              "            + ' to learn more about interactive tables.';\n",
              "          element.innerHTML = '';\n",
              "          dataTable['output_type'] = 'display_data';\n",
              "          await google.colab.output.renderOutput(dataTable, element);\n",
              "          const docLink = document.createElement('div');\n",
              "          docLink.innerHTML = docLinkHtml;\n",
              "          element.appendChild(docLink);\n",
              "        }\n",
              "      </script>\n",
              "    </div>\n",
              "  </div>\n",
              "  "
            ]
          },
          "metadata": {},
          "execution_count": 43
        }
      ]
    },
    {
      "cell_type": "code",
      "source": [
        "#getting price and region information\n",
        "preco_regiao = precogas.select(col('Regiao - Sigla').alias('regiao'), col('Valor de Venda').alias('preco')).toPandas()\n",
        "\n",
        "#importing the graphics libraries\n",
        "import seaborn as sns\n",
        "import matplotlib.pyplot as plt\n",
        "\n",
        "#generating a boxplot\n",
        "plt.figure(figsize = (8,8))\n",
        "sns.boxplot(data=preco_regiao, y = 'preco', x = 'regiao', \n",
        "            orient = 'v', palette = 'Set2', fliersize = 1, \n",
        "            width=0.5, saturation=1)\n",
        "plt.show()"
      ],
      "metadata": {
        "colab": {
          "base_uri": "https://localhost:8080/",
          "height": 497
        },
        "id": "IGEUiVnNpSJS",
        "outputId": "ef371033-9dd0-4bbc-f06e-78b3672e30bc"
      },
      "execution_count": null,
      "outputs": [
        {
          "output_type": "display_data",
          "data": {
            "text/plain": [
              "<Figure size 576x576 with 1 Axes>"
            ],
            "image/png": "[encoded data removed]"
          },
          "metadata": {
            "needs_background": "light"
          }
        }
      ]
    },
    {
      "cell_type": "markdown",
      "source": [
        "### **Final comments**"
      ],
      "metadata": {
        "id": "gPwslHBdpt3P"
      }
    },
    {
      "cell_type": "markdown",
      "source": [
        "\n",
        "The official PySpark documentation is extremely helpful and can be accessed at: https://spark.apache.org/docs/latest/api/python/reference/\n",
        "\n",
        "There are still other sites that can help you find examples and answer questions about methods and functions such as:\n",
        "\n",
        "https://sparkbyexamples.com/pyspark/"
      ],
      "metadata": {
        "id": "iyNLVB98pnfX"
      }
    }
  ]
}